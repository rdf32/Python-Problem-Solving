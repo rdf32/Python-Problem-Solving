{
 "cells": [
  {
   "cell_type": "markdown",
   "metadata": {},
   "source": [
    "## Problem Solving in Python\n",
    "\n",
    "The majority of these problems were found on www.https://www.hackerrank.com/challenges and the coded solutions were written by me with some instances having required some outside help from the internet."
   ]
  },
  {
   "cell_type": "markdown",
   "metadata": {},
   "source": [
    "### Compare the Triplets\n",
    "\n",
    "The rating for Alice's challenge is the triplet a = (a[0], a[1], a[2]), and the rating for Bob's challenge is the triplet b = (b[0], b[1], b[2]).\n",
    "\n",
    "The task is to find their comparison points by comparing a[0] with b[0], a[1] with b[1], and a[2] with b[2].\n",
    "\n",
    "If a[i] > b[i], then Alice is awarded 1 point.\n",
    "If a[i] < b[i], then Bob is awarded 1 point.\n",
    "If a[i] = b[i], then neither person receives a point."
   ]
  },
  {
   "cell_type": "code",
   "execution_count": 4,
   "metadata": {},
   "outputs": [],
   "source": [
    "a = [3,0,-3]\n",
    "b = [4,1,4]"
   ]
  },
  {
   "cell_type": "code",
   "execution_count": 5,
   "metadata": {},
   "outputs": [],
   "source": [
    "def compareTriplets(a, b):\n",
    "    a_score = []\n",
    "    b_score = []\n",
    "    \n",
    "    for i in range(0, len(a)):\n",
    "        if a[i] > b[i]:\n",
    "            a_score.append(1)\n",
    "            b_score.append(0)\n",
    "        elif a[i] < b[i]:\n",
    "            b_score.append(1)\n",
    "            a_score.append(0)\n",
    "        else:\n",
    "            a_score.append(0)\n",
    "            b_score.append(0)\n",
    "\n",
    "    score = [sum(a_score), sum(b_score)]\n",
    "    \n",
    "    return score\n"
   ]
  },
  {
   "cell_type": "code",
   "execution_count": 6,
   "metadata": {},
   "outputs": [
    {
     "data": {
      "text/plain": [
       "[0, 3]"
      ]
     },
     "execution_count": 6,
     "metadata": {},
     "output_type": "execute_result"
    }
   ],
   "source": [
    "compareTriplets(a,b)"
   ]
  },
  {
   "cell_type": "markdown",
   "metadata": {},
   "source": [
    "### Diagonal Difference\n",
    "\n",
    "Given a square matrix, calculate the absolute difference between the sums of its diagonals."
   ]
  },
  {
   "cell_type": "code",
   "execution_count": 7,
   "metadata": {},
   "outputs": [
    {
     "data": {
      "text/plain": [
       "1"
      ]
     },
     "execution_count": 7,
     "metadata": {},
     "output_type": "execute_result"
    }
   ],
   "source": [
    "def diagonalDifference(arr):\n",
    "    diag = []\n",
    "    diag2 = []\n",
    "    \n",
    "    for i in range(len(arr[0])):\n",
    "        diag.append(arr[i][i]) \n",
    "    for i in range(len(arr[0]) - 1, -1, -1):\n",
    "        diag2.append(arr[len(arr[0])- 1 - i][i])\n",
    "    diff = abs(sum(diag) - sum(diag2))\n",
    "    \n",
    "    return diff\n",
    "\n",
    "arr = [[1,3,4],\n",
    "       [4,5,6],\n",
    "       [7,8,9]]\n",
    "\n",
    "diagonalDifference(arr)"
   ]
  },
  {
   "cell_type": "markdown",
   "metadata": {},
   "source": [
    "### Plus Minus\n",
    "\n",
    "Given an array of integers, calculate the ratios of its elements that are positive, negative, and zero. Print the decimal value of each fraction on a new line with  places after the decimal."
   ]
  },
  {
   "cell_type": "code",
   "execution_count": 8,
   "metadata": {},
   "outputs": [],
   "source": [
    "def plusMinus(arr):\n",
    "    pos = []\n",
    "    neg = []\n",
    "    zer = []\n",
    "    for i in arr:\n",
    "        \n",
    "        if i > 0:\n",
    "            pos.append(1)\n",
    "        elif i < 0:\n",
    "            neg.append(1)\n",
    "        else:\n",
    "            zer.append(1)\n",
    "            \n",
    "    pos_r = sum(pos)/len(arr)\n",
    "    neg_r = sum(neg)/len(arr)\n",
    "    zer_r = sum(zer)/len(arr)\n",
    "    \n",
    "    return round(pos_r,6), round(neg_r,6), round(zer_r,6)\n",
    "    "
   ]
  },
  {
   "cell_type": "code",
   "execution_count": 9,
   "metadata": {},
   "outputs": [
    {
     "data": {
      "text/plain": [
       "(0.333333, 0.333333, 0.333333)"
      ]
     },
     "execution_count": 9,
     "metadata": {},
     "output_type": "execute_result"
    }
   ],
   "source": [
    "plusMinus(a)"
   ]
  },
  {
   "cell_type": "markdown",
   "metadata": {},
   "source": [
    "###  MiniMaxSum\n",
    "\n",
    "Given five positive integers, find the minimum and maximum values that can be calculated by summing exactly four of the five integers. Then print the respective minimum and maximum values as a single line of two space-separated long integers."
   ]
  },
  {
   "cell_type": "code",
   "execution_count": 10,
   "metadata": {},
   "outputs": [],
   "source": [
    "def miniMaxSum(arr):\n",
    "    sums = []\n",
    "    for i in range(0,len(arr)):\n",
    "        \n",
    "        sums.append(sum(arr) - arr[i])\n",
    "        \n",
    "        max_arr = max(sums)\n",
    "        min_arr = min(sums)\n",
    "    print(min_arr, max_arr) \n"
   ]
  },
  {
   "cell_type": "code",
   "execution_count": 11,
   "metadata": {},
   "outputs": [
    {
     "name": "stdout",
     "output_type": "stream",
     "text": [
      "-3 3\n"
     ]
    }
   ],
   "source": [
    "miniMaxSum(a)"
   ]
  },
  {
   "cell_type": "markdown",
   "metadata": {},
   "source": [
    "### Birthday Candles\n",
    "\n",
    "given a vector containing a height for each candle on a birthday cake. Determine which length of candle is the tallest candle and return how many of them their are."
   ]
  },
  {
   "cell_type": "code",
   "execution_count": 12,
   "metadata": {},
   "outputs": [],
   "source": [
    "def birthdayCakeCandles(candles):\n",
    "    dic = {}\n",
    "    for candle in candles:\n",
    "        if candle in dic:\n",
    "            dic[candle] += 1\n",
    "        else:\n",
    "            dic[candle] = 1\n",
    "        # returns number of candles that have the maximum length  \n",
    "        # so value of max key\n",
    "    return dic[max(dic, key=int)]\n"
   ]
  },
  {
   "cell_type": "code",
   "execution_count": 13,
   "metadata": {
    "scrolled": true
   },
   "outputs": [
    {
     "data": {
      "text/plain": [
       "2"
      ]
     },
     "execution_count": 13,
     "metadata": {},
     "output_type": "execute_result"
    }
   ],
   "source": [
    "birthdayCakeCandles(b)"
   ]
  },
  {
   "cell_type": "markdown",
   "metadata": {},
   "source": [
    "### Roman Numeral Conversion\n",
    "\n",
    "Convert any integer less than or equal to 1,000 into a roman numeral."
   ]
  },
  {
   "cell_type": "code",
   "execution_count": 14,
   "metadata": {},
   "outputs": [],
   "source": [
    "# roman numeral conversion\n",
    "# I = 1\n",
    "# IV = 4\n",
    "# V = 5\n",
    "# IX = 9\n",
    "# X = 10\n",
    "# XL = 40\n",
    "# L = 50\n",
    "# XC = 90\n",
    "# C = 100\n",
    "# CD = 400\n",
    "# D = 500\n",
    "# CM = 900\n",
    "# M = 1000\n",
    "\n",
    "\n",
    "def IntToRoman(number):\n",
    "    \n",
    "    \"\"\"\n",
    "    Logical note, only need big symbols and one right before aside from I. \n",
    "    If you add the one right after say 6, messes up the math.\n",
    "    Numeral right before a new symbol is the only one to use subtractive idea\n",
    "    \"\"\"\n",
    "    \n",
    "    numeral = []\n",
    "    \n",
    "    if number <= 1000:\n",
    "        \n",
    "    \n",
    "        Rdict = {1000: \"M\", 900: \"CM\", 500: \"D\", 400: \"CD\", 100: \"C\", 90: \"XC\", 50: \"L\", 40: \"XL\",\n",
    "                 10: \"X\", 9: \"IX\", 5: \"V\", 4: \"IV\", 1: \"I\"}\n",
    "        Rlist = [1000, 900, 500, 400, 100, 90, 50, 40, 10, 9, 5, 4, 1]\n",
    "\n",
    "        while number > 0:\n",
    "\n",
    "            for i in range(len(Rdict)):\n",
    "\n",
    "                times = number // Rlist[i]\n",
    "                number = number % Rlist[i]\n",
    "                numeral.append(Rdict[Rlist[i]]*times)\n",
    "\n",
    "            numeral = ''.join(numeral)\n",
    "        return numeral\n",
    "    else:\n",
    "        print(\"Number is greater than 1000, chose something less than or equal to 1000\")\n",
    "        \n",
    "                \n",
    "        "
   ]
  },
  {
   "cell_type": "code",
   "execution_count": 15,
   "metadata": {},
   "outputs": [
    {
     "name": "stdout",
     "output_type": "stream",
     "text": [
      "Number is greater than 1000, chose something less than or equal to 1000\n"
     ]
    }
   ],
   "source": [
    "IntToRoman(3992)"
   ]
  },
  {
   "cell_type": "code",
   "execution_count": 16,
   "metadata": {},
   "outputs": [
    {
     "data": {
      "text/plain": [
       "'CMLXXXIX'"
      ]
     },
     "execution_count": 16,
     "metadata": {},
     "output_type": "execute_result"
    }
   ],
   "source": [
    "IntToRoman(989)"
   ]
  },
  {
   "cell_type": "code",
   "execution_count": null,
   "metadata": {},
   "outputs": [],
   "source": []
  }
 ],
 "metadata": {
  "kernelspec": {
   "display_name": "Python 3",
   "language": "python",
   "name": "python3"
  },
  "language_info": {
   "codemirror_mode": {
    "name": "ipython",
    "version": 3
   },
   "file_extension": ".py",
   "mimetype": "text/x-python",
   "name": "python",
   "nbconvert_exporter": "python",
   "pygments_lexer": "ipython3",
   "version": "3.7.7"
  },
  "varInspector": {
   "cols": {
    "lenName": 16,
    "lenType": 16,
    "lenVar": 40
   },
   "kernels_config": {
    "python": {
     "delete_cmd_postfix": "",
     "delete_cmd_prefix": "del ",
     "library": "var_list.py",
     "varRefreshCmd": "print(var_dic_list())"
    },
    "r": {
     "delete_cmd_postfix": ") ",
     "delete_cmd_prefix": "rm(",
     "library": "var_list.r",
     "varRefreshCmd": "cat(var_dic_list()) "
    }
   },
   "types_to_exclude": [
    "module",
    "function",
    "builtin_function_or_method",
    "instance",
    "_Feature"
   ],
   "window_display": false
  }
 },
 "nbformat": 4,
 "nbformat_minor": 4
}
