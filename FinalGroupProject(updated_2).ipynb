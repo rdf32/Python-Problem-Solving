{
 "cells": [
  {
   "cell_type": "markdown",
   "metadata": {},
   "source": [
    "<p style=\"font-family: Arial; font-size:3em;color:purple; font-style:bold\"><br>\n",
    "INFS 768 Group Project </p>\n",
    "<p style=\"font-family: Arial; font-size:2em; font-style:bold\">\n",
    "<br> Kyle Downs, Cara, Bracken, Rylie Fleckenstein<br><br> </p>\n",
    "<p style=\"font-family: Arial; font-size:1.5em; color:#2462C0; font-style:bold\">\n",
    "Building ML Models to Determine if an App is Free or not</p>\n",
    "\n",
    "## Predictions with the Google Play Data Set\n",
    "\n",
    "### Outline\n",
    "\n",
    "- Data Processing\n",
    "\n",
    "- Feature Selection\n",
    "\n",
    "- Hyperparameter tuning and model selection\n"
   ]
  },
  {
   "cell_type": "markdown",
   "metadata": {},
   "source": [
    "## Data Analysis\n",
    "\n",
    "### GooglePlay Data Set\n",
    "\n",
    "We are creating a model to predict the type of an App (whether it is free or requires payment). \n",
    "\n",
    "### About this dataset\n",
    "\n",
    "\"Context: While many public datasets (on Kaggle and the like) provide Apple App Store data, there are not many counterpart datasets available for Google Play Store apps anywhere on the web. On digging deeper, I found out that iTunes App Store page deploys a nicely indexed appendix-like structure to allow for simple and easy web scraping. On the other hand, Google Play Store uses sophisticated modern-day techniques (like dynamic page load) using JQuery making scraping more challenging.\"\n",
    "\n",
    "\"Acknowledgements: This information is scraped from the Google Play Store. This app information would not be available without it.\"\n",
    "\n",
    "The data set : https://www.kaggle.com/lava18/google-play-store-apps\n",
    "\n",
    "### Feature Information\n",
    "\n",
    "1) App - name of the application\n",
    "\n",
    "2) Category - category the application falls in\n",
    "\n",
    "3) Rating - the average rating given for the application\n",
    "\n",
    "4) Reviews - how many reviews have been written for the app\n",
    "\n",
    "5) Size - how large of a file it is in megabytes and kilobytes\n",
    "\n",
    "6) Installs - how many times the app has been installed\n",
    "\n",
    "7) Type - if the app is free of paid (target)\n",
    "\n",
    "8) Price - how much the app costs \n",
    "\n",
    "9) Content Rating - what age group the app is targeted for\n",
    "\n",
    "10) Genres - what genre the app falls in (similar to category)\n",
    "\n",
    "11) Last Updated - date of most recent update\n",
    "\n",
    "12) Current Ver - what version of the app the deveopers are currently on for IOS\n",
    "\n",
    "13) Android Ver - what version of the app the deveopers are currently on for Android"
   ]
  },
  {
   "cell_type": "code",
   "execution_count": 1,
   "metadata": {},
   "outputs": [],
   "source": [
    "import numpy as np \n",
    "import pandas as pd   \n",
    "import matplotlib.pyplot as plt\n",
    "import seaborn as sns\n",
    "\n",
    "from sklearn.model_selection import train_test_split\n",
    "from sklearn.neural_network import MLPClassifier\n",
    "from sklearn.neighbors import KNeighborsClassifier\n",
    "from sklearn.linear_model import LogisticRegression\n",
    "from sklearn.tree import DecisionTreeClassifier\n",
    "from sklearn.metrics import f1_score,confusion_matrix, accuracy_score, precision_score, recall_score\n",
    "from sklearn.feature_selection import RFE\n",
    "from sklearn.feature_selection import RFECV"
   ]
  },
  {
   "cell_type": "code",
   "execution_count": 2,
   "metadata": {},
   "outputs": [
    {
     "data": {
      "text/html": [
       "<div>\n",
       "<style scoped>\n",
       "    .dataframe tbody tr th:only-of-type {\n",
       "        vertical-align: middle;\n",
       "    }\n",
       "\n",
       "    .dataframe tbody tr th {\n",
       "        vertical-align: top;\n",
       "    }\n",
       "\n",
       "    .dataframe thead th {\n",
       "        text-align: right;\n",
       "    }\n",
       "</style>\n",
       "<table border=\"1\" class=\"dataframe\">\n",
       "  <thead>\n",
       "    <tr style=\"text-align: right;\">\n",
       "      <th></th>\n",
       "      <th>App</th>\n",
       "      <th>Category</th>\n",
       "      <th>Rating</th>\n",
       "      <th>Reviews</th>\n",
       "      <th>Size</th>\n",
       "      <th>Installs</th>\n",
       "      <th>Type</th>\n",
       "      <th>Price</th>\n",
       "      <th>Content Rating</th>\n",
       "      <th>Genres</th>\n",
       "      <th>Last Updated</th>\n",
       "      <th>Current Ver</th>\n",
       "      <th>Android Ver</th>\n",
       "    </tr>\n",
       "  </thead>\n",
       "  <tbody>\n",
       "    <tr>\n",
       "      <th>0</th>\n",
       "      <td>Photo Editor &amp; Candy Camera &amp; Grid &amp; ScrapBook</td>\n",
       "      <td>ART_AND_DESIGN</td>\n",
       "      <td>4.1</td>\n",
       "      <td>159</td>\n",
       "      <td>19M</td>\n",
       "      <td>10,000+</td>\n",
       "      <td>Free</td>\n",
       "      <td>0</td>\n",
       "      <td>Everyone</td>\n",
       "      <td>Art &amp; Design</td>\n",
       "      <td>January 7, 2018</td>\n",
       "      <td>1.0.0</td>\n",
       "      <td>4.0.3 and up</td>\n",
       "    </tr>\n",
       "    <tr>\n",
       "      <th>1</th>\n",
       "      <td>Coloring book moana</td>\n",
       "      <td>ART_AND_DESIGN</td>\n",
       "      <td>3.9</td>\n",
       "      <td>967</td>\n",
       "      <td>14M</td>\n",
       "      <td>500,000+</td>\n",
       "      <td>Free</td>\n",
       "      <td>0</td>\n",
       "      <td>Everyone</td>\n",
       "      <td>Art &amp; Design;Pretend Play</td>\n",
       "      <td>January 15, 2018</td>\n",
       "      <td>2.0.0</td>\n",
       "      <td>4.0.3 and up</td>\n",
       "    </tr>\n",
       "    <tr>\n",
       "      <th>2</th>\n",
       "      <td>U Launcher Lite – FREE Live Cool Themes, Hide ...</td>\n",
       "      <td>ART_AND_DESIGN</td>\n",
       "      <td>4.7</td>\n",
       "      <td>87510</td>\n",
       "      <td>8.7M</td>\n",
       "      <td>5,000,000+</td>\n",
       "      <td>Free</td>\n",
       "      <td>0</td>\n",
       "      <td>Everyone</td>\n",
       "      <td>Art &amp; Design</td>\n",
       "      <td>August 1, 2018</td>\n",
       "      <td>1.2.4</td>\n",
       "      <td>4.0.3 and up</td>\n",
       "    </tr>\n",
       "    <tr>\n",
       "      <th>3</th>\n",
       "      <td>Sketch - Draw &amp; Paint</td>\n",
       "      <td>ART_AND_DESIGN</td>\n",
       "      <td>4.5</td>\n",
       "      <td>215644</td>\n",
       "      <td>25M</td>\n",
       "      <td>50,000,000+</td>\n",
       "      <td>Free</td>\n",
       "      <td>0</td>\n",
       "      <td>Teen</td>\n",
       "      <td>Art &amp; Design</td>\n",
       "      <td>June 8, 2018</td>\n",
       "      <td>Varies with device</td>\n",
       "      <td>4.2 and up</td>\n",
       "    </tr>\n",
       "    <tr>\n",
       "      <th>4</th>\n",
       "      <td>Pixel Draw - Number Art Coloring Book</td>\n",
       "      <td>ART_AND_DESIGN</td>\n",
       "      <td>4.3</td>\n",
       "      <td>967</td>\n",
       "      <td>2.8M</td>\n",
       "      <td>100,000+</td>\n",
       "      <td>Free</td>\n",
       "      <td>0</td>\n",
       "      <td>Everyone</td>\n",
       "      <td>Art &amp; Design;Creativity</td>\n",
       "      <td>June 20, 2018</td>\n",
       "      <td>1.1</td>\n",
       "      <td>4.4 and up</td>\n",
       "    </tr>\n",
       "  </tbody>\n",
       "</table>\n",
       "</div>"
      ],
      "text/plain": [
       "                                                 App        Category  Rating  \\\n",
       "0     Photo Editor & Candy Camera & Grid & ScrapBook  ART_AND_DESIGN     4.1   \n",
       "1                                Coloring book moana  ART_AND_DESIGN     3.9   \n",
       "2  U Launcher Lite – FREE Live Cool Themes, Hide ...  ART_AND_DESIGN     4.7   \n",
       "3                              Sketch - Draw & Paint  ART_AND_DESIGN     4.5   \n",
       "4              Pixel Draw - Number Art Coloring Book  ART_AND_DESIGN     4.3   \n",
       "\n",
       "  Reviews  Size     Installs  Type Price Content Rating  \\\n",
       "0     159   19M      10,000+  Free     0       Everyone   \n",
       "1     967   14M     500,000+  Free     0       Everyone   \n",
       "2   87510  8.7M   5,000,000+  Free     0       Everyone   \n",
       "3  215644   25M  50,000,000+  Free     0           Teen   \n",
       "4     967  2.8M     100,000+  Free     0       Everyone   \n",
       "\n",
       "                      Genres      Last Updated         Current Ver  \\\n",
       "0               Art & Design   January 7, 2018               1.0.0   \n",
       "1  Art & Design;Pretend Play  January 15, 2018               2.0.0   \n",
       "2               Art & Design    August 1, 2018               1.2.4   \n",
       "3               Art & Design      June 8, 2018  Varies with device   \n",
       "4    Art & Design;Creativity     June 20, 2018                 1.1   \n",
       "\n",
       "    Android Ver  \n",
       "0  4.0.3 and up  \n",
       "1  4.0.3 and up  \n",
       "2  4.0.3 and up  \n",
       "3    4.2 and up  \n",
       "4    4.4 and up  "
      ]
     },
     "execution_count": 2,
     "metadata": {},
     "output_type": "execute_result"
    }
   ],
   "source": [
    "# Load google play csv file into pandas dataframe\n",
    "gp_dat = pd.read_csv(\"googleplaystore.csv\")\n",
    "gp_dat.head()"
   ]
  },
  {
   "cell_type": "markdown",
   "metadata": {},
   "source": [
    "## Data Preprocessing\n"
   ]
  },
  {
   "cell_type": "markdown",
   "metadata": {},
   "source": [
    "The below code prints description of all categorical attributes. We used this in the preprocessing stage to take a look and see what we were working with in order gain an understanding of the nature of all of the categorical variables. I commented out this block of code to save space in the final document but it is still here for use whenever it is needed."
   ]
  },
  {
   "cell_type": "code",
   "execution_count": 3,
   "metadata": {},
   "outputs": [],
   "source": [
    "# description of every categorical attribute\n",
    "# Rylie's code\n",
    "#df_ = gp_dat.select_dtypes(exclude=['int64', 'float64'])\n",
    "#for col in df_.columns:\n",
    "    #print(df_[col].unique()) # to print categories name only\n",
    "    #print(df_[col].value_counts()) # to print count of every category"
   ]
  },
  {
   "cell_type": "markdown",
   "metadata": {},
   "source": [
    "### Missing Values\n",
    "\n",
    "The first step is to take a look and see if we have any missing values in the data set that need to be taken care of. We can see that \"Rating\" is missing 1474 observations and then \"Content Rating\", \"Type\", \"Current Ver\" and \"Android Ver\" are all missing just a few observations. We decided to go ahead and drop the observations that had only a few missing values and decided to replace all of the missing values in \"Rating\" with the mean of \"Rating\"."
   ]
  },
  {
   "cell_type": "code",
   "execution_count": 4,
   "metadata": {},
   "outputs": [
    {
     "data": {
      "text/plain": [
       "App                  0\n",
       "Category             0\n",
       "Rating            1474\n",
       "Reviews              0\n",
       "Size                 0\n",
       "Installs             0\n",
       "Type                 1\n",
       "Price                0\n",
       "Content Rating       1\n",
       "Genres               0\n",
       "Last Updated         0\n",
       "Current Ver          8\n",
       "Android Ver          3\n",
       "dtype: int64"
      ]
     },
     "execution_count": 4,
     "metadata": {},
     "output_type": "execute_result"
    }
   ],
   "source": [
    "gp_dat.isnull().sum()"
   ]
  },
  {
   "cell_type": "code",
   "execution_count": 5,
   "metadata": {},
   "outputs": [],
   "source": [
    "# Kyle's code\n",
    "gp_dat = gp_dat.dropna(subset = ['Content Rating','Type', 'Current Ver', 'Android Ver'])"
   ]
  },
  {
   "cell_type": "markdown",
   "metadata": {},
   "source": [
    "Whenever the decision is made to replace a missing value with some other value, it is important to indicate that the replacement. This is because even though we are taking the mean of the variable in question, this value is more than likely wrong. We have no way of knowing what the actual value would be, but instead use the mean of the variable to ensure we do not change its distribution. Below we create a missing value indicator for the \"Rating\" attribute."
   ]
  },
  {
   "cell_type": "code",
   "execution_count": 6,
   "metadata": {},
   "outputs": [
    {
     "data": {
      "text/plain": [
       "0    9360\n",
       "1    1469\n",
       "Name: Rating_Miss_Ind, dtype: int64"
      ]
     },
     "execution_count": 6,
     "metadata": {},
     "output_type": "execute_result"
    }
   ],
   "source": [
    "# create new variable (missing value indicator for Rating)\n",
    "# Rylie's code\n",
    "gp_dat['Rating_Miss_Ind']=np.select([gp_dat.Rating.isnull()],[1])\n",
    "gp_dat.Rating_Miss_Ind.value_counts()"
   ]
  },
  {
   "cell_type": "markdown",
   "metadata": {},
   "source": [
    "Replacing the missing values with the mean"
   ]
  },
  {
   "cell_type": "code",
   "execution_count": 7,
   "metadata": {},
   "outputs": [],
   "source": [
    "# Replace NaN values for Rating with the mean of Rating\n",
    "# Kyle's code\n",
    "gp_dat['Rating'] = gp_dat['Rating'].fillna(gp_dat['Rating'].mean())"
   ]
  },
  {
   "cell_type": "markdown",
   "metadata": {},
   "source": [
    "Changing the data type of the \"Rating\" attribute to \"int64\" so it can be used in our ML models."
   ]
  },
  {
   "cell_type": "code",
   "execution_count": 8,
   "metadata": {},
   "outputs": [],
   "source": [
    "# Kyle's code\n",
    "gp_dat['Reviews'] = gp_dat['Reviews'].astype('int64')"
   ]
  },
  {
   "cell_type": "markdown",
   "metadata": {},
   "source": [
    "Checking to make sure we have taken care of all missing values"
   ]
  },
  {
   "cell_type": "code",
   "execution_count": 9,
   "metadata": {},
   "outputs": [
    {
     "data": {
      "text/plain": [
       "App                0\n",
       "Category           0\n",
       "Rating             0\n",
       "Reviews            0\n",
       "Size               0\n",
       "Installs           0\n",
       "Type               0\n",
       "Price              0\n",
       "Content Rating     0\n",
       "Genres             0\n",
       "Last Updated       0\n",
       "Current Ver        0\n",
       "Android Ver        0\n",
       "Rating_Miss_Ind    0\n",
       "dtype: int64"
      ]
     },
     "execution_count": 9,
     "metadata": {},
     "output_type": "execute_result"
    }
   ],
   "source": [
    "gp_dat.isnull().sum()"
   ]
  },
  {
   "cell_type": "markdown",
   "metadata": {},
   "source": [
    "## Attribute tansformations\n",
    "\n",
    "Most of the variables in this dataset are not ready to be ran through a ML algorithm and must be converted and processed so we can build a succesfful model"
   ]
  },
  {
   "cell_type": "markdown",
   "metadata": {},
   "source": [
    "### \"Type\"\n",
    "Here we are changing the binary variable \"Type\" to numbers Free:0, and Paid:1."
   ]
  },
  {
   "cell_type": "code",
   "execution_count": 10,
   "metadata": {},
   "outputs": [],
   "source": [
    "# changing TYPE to 0 if free and 1 if paid\n",
    "# Rylie's code\n",
    "gp_dat['Type'] = gp_dat['Type'].replace({'Free': 0, 'Paid': 1}, regex=True).astype(float)\n"
   ]
  },
  {
   "cell_type": "markdown",
   "metadata": {},
   "source": [
    "### \"Price\"\n",
    "\n",
    "Here we stripped the \"Price\" variable of all special characters and then converted it to data type \"float\""
   ]
  },
  {
   "cell_type": "code",
   "execution_count": 11,
   "metadata": {},
   "outputs": [],
   "source": [
    "# changing currency to integer in PRICE\n",
    "gp_dat['Price'] = gp_dat['Price'].replace({'\\$': '', ',': ''}, regex=True).astype(float)"
   ]
  },
  {
   "cell_type": "markdown",
   "metadata": {},
   "source": [
    "### \"Size\"\n",
    "\n",
    "Dealing with the \"Size\" attribute was tricky. There are instances that are in Megabytes indicated by an \"M\" at the end of the value and also instances in kilobytes indicated by a \"k\", instances that have decimals in them and instances labeled as \"varies with device\". The original data type of this variable is also a string so coming up with a clear solution to convert all instances to the same scale (Megabytes) and remove all special characters was not particularly straight forward.\n",
    "\n",
    "Rylie decided to create a kilobyte indicator column so that he could remove the special characters from each instance and transform each instance into integers. Then he was able to divide all of the instances of the \"Size\" variable that had the kilobyte indicator by 1000 so that all of the sizes were in Megabytes. Then he set all instances of \"varies with device\" to NaN and replaced them with the mean."
   ]
  },
  {
   "cell_type": "code",
   "execution_count": 12,
   "metadata": {},
   "outputs": [],
   "source": [
    "# setting indicator for Kilobytes\n",
    "gp_dat['Size_K']=np.select([gp_dat.Size.str.contains('k')],[1])"
   ]
  },
  {
   "cell_type": "code",
   "execution_count": 13,
   "metadata": {},
   "outputs": [
    {
     "data": {
      "text/plain": [
       "0    10517\n",
       "1      312\n",
       "Name: Size_K, dtype: int64"
      ]
     },
     "execution_count": 13,
     "metadata": {},
     "output_type": "execute_result"
    }
   ],
   "source": [
    "gp_dat['Size_K'].value_counts()"
   ]
  },
  {
   "cell_type": "code",
   "execution_count": 14,
   "metadata": {},
   "outputs": [],
   "source": [
    "# set 'Varies with device' as NA and removing all special characters\n",
    "gp_dat['Size'] = gp_dat['Size'].replace({'Varies with device': np.NaN, 'M' : '', 'k': ''}, regex=True).astype(float)"
   ]
  },
  {
   "cell_type": "code",
   "execution_count": 15,
   "metadata": {},
   "outputs": [
    {
     "data": {
      "text/plain": [
       "0    9135\n",
       "1    1694\n",
       "Name: Size_Varies_Ind, dtype: int64"
      ]
     },
     "execution_count": 15,
     "metadata": {},
     "output_type": "execute_result"
    }
   ],
   "source": [
    "# Varies with device value indicator for SIZE\n",
    "gp_dat['Size_Varies_Ind']=np.select([gp_dat.Size.isnull()],[1])\n",
    "gp_dat.Size_Varies_Ind.value_counts()"
   ]
  },
  {
   "cell_type": "code",
   "execution_count": 16,
   "metadata": {},
   "outputs": [],
   "source": [
    "# converting all Kilobyte instances to Megaabytes\n",
    "gp_dat.loc[gp_dat['Size_K'] == 1, 'Size'] = gp_dat['Size']/1000"
   ]
  },
  {
   "cell_type": "code",
   "execution_count": 17,
   "metadata": {},
   "outputs": [],
   "source": [
    "# Replacing all \"Varies with Device\" with mean in Megaabytes\n",
    "gp_dat['Size'] = gp_dat['Size'].fillna(gp_dat['Size'].mean())"
   ]
  },
  {
   "cell_type": "code",
   "execution_count": 18,
   "metadata": {},
   "outputs": [],
   "source": [
    "# dropping kilobyte indicator\n",
    "gp_dat = gp_dat.drop(['Size_K'], axis=1)"
   ]
  },
  {
   "cell_type": "code",
   "execution_count": 19,
   "metadata": {},
   "outputs": [
    {
     "data": {
      "text/plain": [
       "count    10829.000000\n",
       "mean        21.534957\n",
       "std         20.751190\n",
       "min          0.008500\n",
       "25%          5.900000\n",
       "50%         18.000000\n",
       "75%         26.000000\n",
       "max        100.000000\n",
       "Name: Size, dtype: float64"
      ]
     },
     "execution_count": 19,
     "metadata": {},
     "output_type": "execute_result"
    }
   ],
   "source": [
    "gp_dat.Size.describe()"
   ]
  },
  {
   "cell_type": "markdown",
   "metadata": {},
   "source": [
    "### \"Installs\"\n",
    "\n",
    "Here we stripped all instances of special characters and changed the data type to float."
   ]
  },
  {
   "cell_type": "code",
   "execution_count": 20,
   "metadata": {},
   "outputs": [],
   "source": [
    "gp_dat['Installs'] = gp_dat['Installs'].map(lambda x: x.rstrip('+-'))"
   ]
  },
  {
   "cell_type": "code",
   "execution_count": 21,
   "metadata": {},
   "outputs": [],
   "source": [
    "gp_dat['Installs'] = gp_dat['Installs'].replace({',': ''}, regex=True).astype(float)"
   ]
  },
  {
   "cell_type": "markdown",
   "metadata": {},
   "source": [
    "### \"Last Updated\"\n",
    "\n",
    "Here we decided to drop the specific day the update took place and only keep the year the app was updated. This was done using the thought process that we could then categorize our apps by what year they were updated, making \"Last Updated\" a categorical variable."
   ]
  },
  {
   "cell_type": "code",
   "execution_count": 22,
   "metadata": {},
   "outputs": [],
   "source": [
    "# changing last updated to just the year for grouping\n",
    "gp_dat['Last Updated'] = gp_dat['Last Updated'].apply(lambda x: x[-4:])\n"
   ]
  },
  {
   "cell_type": "code",
   "execution_count": 23,
   "metadata": {},
   "outputs": [],
   "source": [
    "gp_dat['Last Updated'] = gp_dat['Last Updated'].astype(float)"
   ]
  },
  {
   "cell_type": "markdown",
   "metadata": {},
   "source": [
    "### Dummy Encoding\n",
    "\n",
    "Here we use the get_dummies() function to dummy encode all of our categorical variables which are the following: [\"Category\",\"Last Updated\", \"Content Rating\"].\n"
   ]
  },
  {
   "cell_type": "code",
   "execution_count": 24,
   "metadata": {},
   "outputs": [],
   "source": [
    "# generate binary values using get_dummies\n",
    "gp_dat = pd.get_dummies(gp_dat, columns=[\"Category\",\"Last Updated\", \"Content Rating\"])"
   ]
  },
  {
   "cell_type": "code",
   "execution_count": 25,
   "metadata": {},
   "outputs": [
    {
     "data": {
      "text/html": [
       "<div>\n",
       "<style scoped>\n",
       "    .dataframe tbody tr th:only-of-type {\n",
       "        vertical-align: middle;\n",
       "    }\n",
       "\n",
       "    .dataframe tbody tr th {\n",
       "        vertical-align: top;\n",
       "    }\n",
       "\n",
       "    .dataframe thead th {\n",
       "        text-align: right;\n",
       "    }\n",
       "</style>\n",
       "<table border=\"1\" class=\"dataframe\">\n",
       "  <thead>\n",
       "    <tr style=\"text-align: right;\">\n",
       "      <th></th>\n",
       "      <th>App</th>\n",
       "      <th>Rating</th>\n",
       "      <th>Reviews</th>\n",
       "      <th>Size</th>\n",
       "      <th>Installs</th>\n",
       "      <th>Type</th>\n",
       "      <th>Price</th>\n",
       "      <th>Genres</th>\n",
       "      <th>Current Ver</th>\n",
       "      <th>Android Ver</th>\n",
       "      <th>...</th>\n",
       "      <th>Last Updated_2015.0</th>\n",
       "      <th>Last Updated_2016.0</th>\n",
       "      <th>Last Updated_2017.0</th>\n",
       "      <th>Last Updated_2018.0</th>\n",
       "      <th>Content Rating_Adults only 18+</th>\n",
       "      <th>Content Rating_Everyone</th>\n",
       "      <th>Content Rating_Everyone 10+</th>\n",
       "      <th>Content Rating_Mature 17+</th>\n",
       "      <th>Content Rating_Teen</th>\n",
       "      <th>Content Rating_Unrated</th>\n",
       "    </tr>\n",
       "  </thead>\n",
       "  <tbody>\n",
       "    <tr>\n",
       "      <th>0</th>\n",
       "      <td>Photo Editor &amp; Candy Camera &amp; Grid &amp; ScrapBook</td>\n",
       "      <td>4.1</td>\n",
       "      <td>159</td>\n",
       "      <td>19.0</td>\n",
       "      <td>10000.0</td>\n",
       "      <td>0.0</td>\n",
       "      <td>0.0</td>\n",
       "      <td>Art &amp; Design</td>\n",
       "      <td>1.0.0</td>\n",
       "      <td>4.0.3 and up</td>\n",
       "      <td>...</td>\n",
       "      <td>0</td>\n",
       "      <td>0</td>\n",
       "      <td>0</td>\n",
       "      <td>1</td>\n",
       "      <td>0</td>\n",
       "      <td>1</td>\n",
       "      <td>0</td>\n",
       "      <td>0</td>\n",
       "      <td>0</td>\n",
       "      <td>0</td>\n",
       "    </tr>\n",
       "    <tr>\n",
       "      <th>1</th>\n",
       "      <td>Coloring book moana</td>\n",
       "      <td>3.9</td>\n",
       "      <td>967</td>\n",
       "      <td>14.0</td>\n",
       "      <td>500000.0</td>\n",
       "      <td>0.0</td>\n",
       "      <td>0.0</td>\n",
       "      <td>Art &amp; Design;Pretend Play</td>\n",
       "      <td>2.0.0</td>\n",
       "      <td>4.0.3 and up</td>\n",
       "      <td>...</td>\n",
       "      <td>0</td>\n",
       "      <td>0</td>\n",
       "      <td>0</td>\n",
       "      <td>1</td>\n",
       "      <td>0</td>\n",
       "      <td>1</td>\n",
       "      <td>0</td>\n",
       "      <td>0</td>\n",
       "      <td>0</td>\n",
       "      <td>0</td>\n",
       "    </tr>\n",
       "    <tr>\n",
       "      <th>2</th>\n",
       "      <td>U Launcher Lite – FREE Live Cool Themes, Hide ...</td>\n",
       "      <td>4.7</td>\n",
       "      <td>87510</td>\n",
       "      <td>8.7</td>\n",
       "      <td>5000000.0</td>\n",
       "      <td>0.0</td>\n",
       "      <td>0.0</td>\n",
       "      <td>Art &amp; Design</td>\n",
       "      <td>1.2.4</td>\n",
       "      <td>4.0.3 and up</td>\n",
       "      <td>...</td>\n",
       "      <td>0</td>\n",
       "      <td>0</td>\n",
       "      <td>0</td>\n",
       "      <td>1</td>\n",
       "      <td>0</td>\n",
       "      <td>1</td>\n",
       "      <td>0</td>\n",
       "      <td>0</td>\n",
       "      <td>0</td>\n",
       "      <td>0</td>\n",
       "    </tr>\n",
       "    <tr>\n",
       "      <th>3</th>\n",
       "      <td>Sketch - Draw &amp; Paint</td>\n",
       "      <td>4.5</td>\n",
       "      <td>215644</td>\n",
       "      <td>25.0</td>\n",
       "      <td>50000000.0</td>\n",
       "      <td>0.0</td>\n",
       "      <td>0.0</td>\n",
       "      <td>Art &amp; Design</td>\n",
       "      <td>Varies with device</td>\n",
       "      <td>4.2 and up</td>\n",
       "      <td>...</td>\n",
       "      <td>0</td>\n",
       "      <td>0</td>\n",
       "      <td>0</td>\n",
       "      <td>1</td>\n",
       "      <td>0</td>\n",
       "      <td>0</td>\n",
       "      <td>0</td>\n",
       "      <td>0</td>\n",
       "      <td>1</td>\n",
       "      <td>0</td>\n",
       "    </tr>\n",
       "    <tr>\n",
       "      <th>4</th>\n",
       "      <td>Pixel Draw - Number Art Coloring Book</td>\n",
       "      <td>4.3</td>\n",
       "      <td>967</td>\n",
       "      <td>2.8</td>\n",
       "      <td>100000.0</td>\n",
       "      <td>0.0</td>\n",
       "      <td>0.0</td>\n",
       "      <td>Art &amp; Design;Creativity</td>\n",
       "      <td>1.1</td>\n",
       "      <td>4.4 and up</td>\n",
       "      <td>...</td>\n",
       "      <td>0</td>\n",
       "      <td>0</td>\n",
       "      <td>0</td>\n",
       "      <td>1</td>\n",
       "      <td>0</td>\n",
       "      <td>1</td>\n",
       "      <td>0</td>\n",
       "      <td>0</td>\n",
       "      <td>0</td>\n",
       "      <td>0</td>\n",
       "    </tr>\n",
       "  </tbody>\n",
       "</table>\n",
       "<p>5 rows × 60 columns</p>\n",
       "</div>"
      ],
      "text/plain": [
       "                                                 App  Rating  Reviews  Size  \\\n",
       "0     Photo Editor & Candy Camera & Grid & ScrapBook     4.1      159  19.0   \n",
       "1                                Coloring book moana     3.9      967  14.0   \n",
       "2  U Launcher Lite – FREE Live Cool Themes, Hide ...     4.7    87510   8.7   \n",
       "3                              Sketch - Draw & Paint     4.5   215644  25.0   \n",
       "4              Pixel Draw - Number Art Coloring Book     4.3      967   2.8   \n",
       "\n",
       "     Installs  Type  Price                     Genres         Current Ver  \\\n",
       "0     10000.0   0.0    0.0               Art & Design               1.0.0   \n",
       "1    500000.0   0.0    0.0  Art & Design;Pretend Play               2.0.0   \n",
       "2   5000000.0   0.0    0.0               Art & Design               1.2.4   \n",
       "3  50000000.0   0.0    0.0               Art & Design  Varies with device   \n",
       "4    100000.0   0.0    0.0    Art & Design;Creativity                 1.1   \n",
       "\n",
       "    Android Ver  ...  Last Updated_2015.0  Last Updated_2016.0  \\\n",
       "0  4.0.3 and up  ...                    0                    0   \n",
       "1  4.0.3 and up  ...                    0                    0   \n",
       "2  4.0.3 and up  ...                    0                    0   \n",
       "3    4.2 and up  ...                    0                    0   \n",
       "4    4.4 and up  ...                    0                    0   \n",
       "\n",
       "   Last Updated_2017.0  Last Updated_2018.0  Content Rating_Adults only 18+  \\\n",
       "0                    0                    1                               0   \n",
       "1                    0                    1                               0   \n",
       "2                    0                    1                               0   \n",
       "3                    0                    1                               0   \n",
       "4                    0                    1                               0   \n",
       "\n",
       "   Content Rating_Everyone  Content Rating_Everyone 10+  \\\n",
       "0                        1                            0   \n",
       "1                        1                            0   \n",
       "2                        1                            0   \n",
       "3                        0                            0   \n",
       "4                        1                            0   \n",
       "\n",
       "   Content Rating_Mature 17+  Content Rating_Teen  Content Rating_Unrated  \n",
       "0                          0                    0                       0  \n",
       "1                          0                    0                       0  \n",
       "2                          0                    0                       0  \n",
       "3                          0                    1                       0  \n",
       "4                          0                    0                       0  \n",
       "\n",
       "[5 rows x 60 columns]"
      ]
     },
     "execution_count": 25,
     "metadata": {},
     "output_type": "execute_result"
    }
   ],
   "source": [
    "gp_dat.head()"
   ]
  },
  {
   "cell_type": "markdown",
   "metadata": {},
   "source": [
    "### Data Visualizations"
   ]
  },
  {
   "cell_type": "markdown",
   "metadata": {},
   "source": [
    "### Feature Selection"
   ]
  },
  {
   "cell_type": "markdown",
   "metadata": {},
   "source": [
    "Drop the \"Price\" variable because it is positively coorelated with the target variable \"Type\". The variable \"Type\" is actually derived from the \"Price\" variable. Also, we drop the \"Genres\" model because it is positively correlated to the \"Category\" variable. Lastly, we drop the \"App\", \"Android Ver\", and \"Genres\" variables because they are not variable because the name of the application is not relevant or needed in the ML model as well as what version they are on."
   ]
  },
  {
   "cell_type": "code",
   "execution_count": 26,
   "metadata": {},
   "outputs": [],
   "source": [
    "gp_dat = gp_dat.drop(['App', 'Current Ver', 'Android Ver', 'Genres'], axis=1)"
   ]
  },
  {
   "cell_type": "code",
   "execution_count": 27,
   "metadata": {},
   "outputs": [],
   "source": [
    "gp_dat = gp_dat.drop(['Price'], axis=1)"
   ]
  },
  {
   "cell_type": "markdown",
   "metadata": {},
   "source": [
    "## Random Sampling/ Known Sampling"
   ]
  },
  {
   "cell_type": "markdown",
   "metadata": {},
   "source": [
    "The intial approach to dealing with this unbalanced classification problem was to take a random sample of the instances where the app was of \"Type\" Free so that the classes of the target variable were equal and not skewed. Skewed classes in the target variable do not perform well in machine learning algorithms. This approach seemed to work alright but we ended up changing it after some experimentation. We started to experiment with known sampling and settled on using the first 800 observations of the FREE class in the target variable because we were able to produce models that performed extremely well."
   ]
  },
  {
   "cell_type": "code",
   "execution_count": 28,
   "metadata": {},
   "outputs": [
    {
     "data": {
      "text/plain": [
       "0.0    10032\n",
       "1.0      797\n",
       "Name: Type, dtype: int64"
      ]
     },
     "execution_count": 28,
     "metadata": {},
     "output_type": "execute_result"
    }
   ],
   "source": [
    "gp_dat['Type'].value_counts()"
   ]
  },
  {
   "cell_type": "markdown",
   "metadata": {},
   "source": [
    "Subsetting the data set based on the class of the target variable \"Type\""
   ]
  },
  {
   "cell_type": "code",
   "execution_count": 29,
   "metadata": {},
   "outputs": [],
   "source": [
    "gp_dat_paid = gp_dat[gp_dat['Type'] == 1]\n",
    "gp_dat_free = gp_dat[gp_dat['Type'] == 0]"
   ]
  },
  {
   "cell_type": "code",
   "execution_count": 30,
   "metadata": {},
   "outputs": [
    {
     "data": {
      "text/plain": [
       "(797, 55)"
      ]
     },
     "execution_count": 30,
     "metadata": {},
     "output_type": "execute_result"
    }
   ],
   "source": [
    "gp_dat_paid.shape"
   ]
  },
  {
   "cell_type": "code",
   "execution_count": 31,
   "metadata": {},
   "outputs": [
    {
     "data": {
      "text/plain": [
       "(10032, 55)"
      ]
     },
     "execution_count": 31,
     "metadata": {},
     "output_type": "execute_result"
    }
   ],
   "source": [
    "gp_dat_free.shape"
   ]
  },
  {
   "cell_type": "markdown",
   "metadata": {},
   "source": [
    "Using the first 800 observations of the FREE subset for use in our final data set"
   ]
  },
  {
   "cell_type": "code",
   "execution_count": 32,
   "metadata": {},
   "outputs": [
    {
     "data": {
      "text/plain": [
       "(800, 55)"
      ]
     },
     "execution_count": 32,
     "metadata": {},
     "output_type": "execute_result"
    }
   ],
   "source": [
    "#gp_dat_free_f = gp_dat_free.sample(800, random_state=5)\n",
    "gp_dat_free_f = gp_dat_free[:800]\n",
    "gp_dat_free_f.shape"
   ]
  },
  {
   "cell_type": "code",
   "execution_count": 33,
   "metadata": {},
   "outputs": [],
   "source": [
    "gp_dat2 = pd.concat([gp_dat_paid, gp_dat_free_f])"
   ]
  },
  {
   "cell_type": "markdown",
   "metadata": {},
   "source": [
    "Showing the counts of the classes in the target variable"
   ]
  },
  {
   "cell_type": "code",
   "execution_count": 34,
   "metadata": {},
   "outputs": [],
   "source": [
    "# y includes our labels and x includes our features\n",
    "dlist = ['Type']\n",
    "x1 = gp_dat.drop(dlist, axis=1)\n",
    "y1 = gp_dat['Type']"
   ]
  },
  {
   "cell_type": "code",
   "execution_count": 35,
   "metadata": {},
   "outputs": [],
   "source": [
    "#actual learning data set where equal target values\n",
    "dlist = ['Type']\n",
    "x = gp_dat2.drop(dlist, axis=1)\n",
    "y = gp_dat2['Type']"
   ]
  },
  {
   "cell_type": "markdown",
   "metadata": {},
   "source": [
    "The original dataset class distribution"
   ]
  },
  {
   "cell_type": "code",
   "execution_count": 36,
   "metadata": {},
   "outputs": [
    {
     "name": "stdout",
     "output_type": "stream",
     "text": [
      "Number of Paid:  797\n",
      "Number of Free:  10032\n"
     ]
    },
    {
     "data": {
      "image/png": "[encoded data removed]",
      "text/plain": [
       "<Figure size 432x288 with 1 Axes>"
      ]
     },
     "metadata": {
      "needs_background": "light"
     },
     "output_type": "display_data"
    }
   ],
   "source": [
    "# class break down of the target attribute in the full dataset\n",
    "ax = sns.countplot(y1,label=\"Count\")       \n",
    "F, P = y1.value_counts()                   # 0 if Free 1 if paid\n",
    "print('Number of Paid: ',P)\n",
    "print('Number of Free: ',F)"
   ]
  },
  {
   "cell_type": "markdown",
   "metadata": {},
   "source": [
    "The class distribution of the data set we used for building our models"
   ]
  },
  {
   "cell_type": "code",
   "execution_count": 37,
   "metadata": {},
   "outputs": [
    {
     "name": "stdout",
     "output_type": "stream",
     "text": [
      "Number of Paid:  797\n",
      "Number of Free:  800\n"
     ]
    },
    {
     "data": {
      "image/png": "[encoded data removed]",
      "text/plain": [
       "<Figure size 432x288 with 1 Axes>"
      ]
     },
     "metadata": {
      "needs_background": "light"
     },
     "output_type": "display_data"
    }
   ],
   "source": [
    "# class break down of the target attribute in the subset used for the predictions\n",
    "ax = sns.countplot(y,label=\"Count\")       \n",
    "F, P = y.value_counts()                   # 0 if Free 1 if paid\n",
    "print('Number of Paid: ',P)\n",
    "print('Number of Free: ',F)"
   ]
  },
  {
   "cell_type": "markdown",
   "metadata": {},
   "source": [
    "## Predicting the Type\n",
    "\n",
    "\n"
   ]
  },
  {
   "cell_type": "code",
   "execution_count": 38,
   "metadata": {},
   "outputs": [],
   "source": [
    "#split data train 70 % and test 30 %\n",
    "x_train, x_test, y_train, y_test = train_test_split(x, y, test_size=0.3, random_state=0)"
   ]
  },
  {
   "cell_type": "markdown",
   "metadata": {},
   "source": [
    "## Scaling the data for the MLP and LogisticRegression Solvers"
   ]
  },
  {
   "cell_type": "code",
   "execution_count": 39,
   "metadata": {},
   "outputs": [],
   "source": [
    "from sklearn.preprocessing import StandardScaler\n",
    "sc = StandardScaler()\n",
    "x_train_scaled = sc.fit_transform(x_train)\n",
    "x_test_scaled = sc.transform(x_test)"
   ]
  },
  {
   "cell_type": "markdown",
   "metadata": {},
   "source": [
    "## MLP Classifier"
   ]
  },
  {
   "cell_type": "code",
   "execution_count": 40,
   "metadata": {},
   "outputs": [
    {
     "data": {
      "image/png": "[encoded data removed]",
      "text/plain": [
       "<Figure size 432x288 with 1 Axes>"
      ]
     },
     "metadata": {
      "needs_background": "light"
     },
     "output_type": "display_data"
    }
   ],
   "source": [
    "scores = []\n",
    "\n",
    "for alpha in [0.0001, 0.01, 0.1, 1]:\n",
    "    mlp = MLPClassifier(max_iter=1000, activation='tanh',\n",
    "                        hidden_layer_sizes=[10, 10], random_state=0, alpha=alpha)\n",
    "    mlp.fit(x_train_scaled, y_train)\n",
    "    y_pred = mlp.predict(x_test_scaled)\n",
    "    scores.append(accuracy_score(y_test, y_pred))\n",
    "    \n",
    "plt.plot([0.0001, 0.01, 0.1, 1], scores)\n",
    "plt.show()"
   ]
  },
  {
   "cell_type": "code",
   "execution_count": 41,
   "metadata": {},
   "outputs": [
    {
     "name": "stdout",
     "output_type": "stream",
     "text": [
      "Accuracy on training set: 0.986\n",
      "Accuracy on test set: 0.969\n"
     ]
    }
   ],
   "source": [
    "mlp = MLPClassifier(max_iter=1000,\n",
    "                        hidden_layer_sizes=[10, 10],activation='tanh', random_state=0, alpha=.0001)\n",
    "\n",
    "mlp.fit(x_train_scaled, y_train)\n",
    "\n",
    "\n",
    "print(\"Accuracy on training set: {:.3f}\".format(\n",
    " mlp.score(x_train_scaled, y_train)))\n",
    "print(\"Accuracy on test set: {:.3f}\".format(mlp.score(x_test_scaled, y_test)))"
   ]
  },
  {
   "cell_type": "markdown",
   "metadata": {},
   "source": [
    "## LogisticRegression"
   ]
  },
  {
   "cell_type": "code",
   "execution_count": 42,
   "metadata": {},
   "outputs": [
    {
     "name": "stderr",
     "output_type": "stream",
     "text": [
      "C:\\Users\\dylle\\AppData\\Roaming\\Python\\Python37\\site-packages\\sklearn\\linear_model\\logistic.py:947: ConvergenceWarning: lbfgs failed to converge. Increase the number of iterations.\n",
      "  \"of iterations.\", ConvergenceWarning)\n"
     ]
    },
    {
     "name": "stdout",
     "output_type": "stream",
     "text": [
      "0.98125\n"
     ]
    },
    {
     "data": {
      "image/png": "[encoded data removed]",
      "text/plain": [
       "<Figure size 432x288 with 1 Axes>"
      ]
     },
     "metadata": {
      "needs_background": "light"
     },
     "output_type": "display_data"
    }
   ],
   "source": [
    "# hyperparameter tuning Logistic Regression Classifier\n",
    "\n",
    "scores = []\n",
    "\n",
    "for C in [0.001, 0.01, 0.1, 1, 10, 100, 1000,100000, 1e6]:\n",
    "    clf_lr = LogisticRegression(C=C, solver='lbfgs', max_iter=1000)\n",
    "    \n",
    "    clf_lr.fit(x_train_scaled, y_train)\n",
    "    y_pred = clf_lr.predict(x_test_scaled)\n",
    "    scores.append(accuracy_score(y_test,y_pred))\n",
    "print(max(scores))    \n",
    "plt.plot([0.001, 0.01, 0.1, 1, 10, 100, 1000,100000, 1e6], scores)\n",
    "plt.show()"
   ]
  },
  {
   "cell_type": "code",
   "execution_count": 43,
   "metadata": {},
   "outputs": [
    {
     "name": "stdout",
     "output_type": "stream",
     "text": [
      "Train accuracy is:  0.9874664279319606\n",
      "Test accuracy is:  0.98125\n"
     ]
    },
    {
     "data": {
      "text/plain": [
       "<AxesSubplot:>"
      ]
     },
     "execution_count": 43,
     "metadata": {},
     "output_type": "execute_result"
    },
    {
     "data": {
      "image/png": "[encoded data removed]",
      "text/plain": [
       "<Figure size 432x288 with 2 Axes>"
      ]
     },
     "metadata": {
      "needs_background": "light"
     },
     "output_type": "display_data"
    }
   ],
   "source": [
    "# Logistic Regression Classifier\n",
    "\n",
    "clf_lr = LogisticRegression(C=1e6, solver='lbfgs', max_iter=1000)\n",
    "    \n",
    "clf_lr.fit(x_train_scaled, y_train)\n",
    "y_pred = clf_lr.predict(x_test)\n",
    "\n",
    "actrain = accuracy_score(y_train,clf_lr.predict(x_train_scaled))\n",
    "print('Train accuracy is: ',actrain)\n",
    "    \n",
    "ac = accuracy_score(y_test,clf_lr.predict(x_test_scaled))\n",
    "print('Test accuracy is: ',ac)\n",
    "cm = confusion_matrix(y_test,clf_lr.predict(x_test_scaled))\n",
    "\n",
    "#prec = precision_score(y_test,clf_lr.predict(x_test_scaled))\n",
    "#print('Precision score is: ',prec)\n",
    "\n",
    "#rec = recall_score(y_test,clf_lr.predict(x_test_scaled))\n",
    "#print('Recall score is: ',rec)\n",
    "\n",
    "sns.heatmap(cm,annot=True,fmt=\"d\")"
   ]
  },
  {
   "cell_type": "markdown",
   "metadata": {},
   "source": [
    "## K-Nearest Neighbors"
   ]
  },
  {
   "cell_type": "code",
   "execution_count": 44,
   "metadata": {},
   "outputs": [
    {
     "name": "stdout",
     "output_type": "stream",
     "text": [
      "0.9583333333333334\n"
     ]
    },
    {
     "data": {
      "image/png": "[encoded data removed]",
      "text/plain": [
       "<Figure size 432x288 with 1 Axes>"
      ]
     },
     "metadata": {
      "needs_background": "light"
     },
     "output_type": "display_data"
    }
   ],
   "source": [
    "# hyperparameter tuning of K Nearest Neighbors Classifier\n",
    "\n",
    "scores = []\n",
    "\n",
    "for neighbors in range(1,10):\n",
    "    clf_nn = KNeighborsClassifier(n_neighbors=neighbors)\n",
    "    \n",
    "    clf_nn.fit(x_train_scaled, y_train)\n",
    "    y_pred = clf_nn.predict(x_test_scaled)\n",
    "    scores.append(accuracy_score(y_test,y_pred))\n",
    "print(max(scores))    \n",
    "plt.plot(list(range(1,10)), scores)\n",
    "plt.show()"
   ]
  },
  {
   "cell_type": "code",
   "execution_count": 45,
   "metadata": {},
   "outputs": [
    {
     "name": "stdout",
     "output_type": "stream",
     "text": [
      "Train accuracy is:  0.9677708146821844\n",
      "Test accuracy is:  0.9583333333333334\n"
     ]
    },
    {
     "data": {
      "text/plain": [
       "<AxesSubplot:>"
      ]
     },
     "execution_count": 45,
     "metadata": {},
     "output_type": "execute_result"
    },
    {
     "data": {
      "image/png": "[encoded data removed]",
      "text/plain": [
       "<Figure size 432x288 with 2 Axes>"
      ]
     },
     "metadata": {
      "needs_background": "light"
     },
     "output_type": "display_data"
    }
   ],
   "source": [
    "# KNN classifier\n",
    "\n",
    "clf_nn = KNeighborsClassifier(n_neighbors=5)\n",
    "    \n",
    "clf_nn.fit(x_train_scaled, y_train)\n",
    "y_pred = clf_nn.predict(x_test_scaled)\n",
    "\n",
    "\n",
    "actrain = accuracy_score(y_train,clf_nn.predict(x_train_scaled))\n",
    "print('Train accuracy is: ',actrain)\n",
    "ac = accuracy_score(y_test,clf_nn.predict(x_test_scaled))\n",
    "print('Test accuracy is: ',ac)\n",
    "cm = confusion_matrix(y_test,clf_nn.predict(x_test_scaled))\n",
    "\n",
    "#prec = precision_score(y_test,clf_nn.predict(x_test_scaled))\n",
    "#print('Precision score is: ',prec)\n",
    "\n",
    "#rec = recall_score(y_test,clf_nn.predict(x_test_scaled))\n",
    "#print('Recall score is: ',rec)\n",
    "\n",
    "sns.heatmap(cm,annot=True,fmt=\"d\")\n"
   ]
  },
  {
   "cell_type": "markdown",
   "metadata": {},
   "source": [
    "## Decision Tree Classifier"
   ]
  },
  {
   "cell_type": "code",
   "execution_count": 46,
   "metadata": {},
   "outputs": [
    {
     "data": {
      "image/png": "[encoded data removed]",
      "text/plain": [
       "<Figure size 432x288 with 1 Axes>"
      ]
     },
     "metadata": {
      "needs_background": "light"
     },
     "output_type": "display_data"
    }
   ],
   "source": [
    "# hyperparameter tuning of Decision Tree Classifier\n",
    "scores = []\n",
    "\n",
    "for leaves in range(2,30):\n",
    "    clf_dt = DecisionTreeClassifier(max_leaf_nodes=leaves, random_state=0,\n",
    "                                   criterion='entropy')\n",
    "    clf_dt.fit(x_train,y_train)\n",
    "    y_pred = clf_dt.predict(x_test)\n",
    "    \n",
    "    scores.append(accuracy_score(y_test,y_pred))\n",
    "#print(scores)\n",
    "plt.plot(list(range(2,30)), scores)\n",
    "plt.show()"
   ]
  },
  {
   "cell_type": "code",
   "execution_count": 47,
   "metadata": {},
   "outputs": [
    {
     "name": "stdout",
     "output_type": "stream",
     "text": [
      "Train accuracy is:  0.9946284691136974\n",
      "Test accuracy is:  0.9875\n"
     ]
    },
    {
     "data": {
      "text/plain": [
       "<AxesSubplot:>"
      ]
     },
     "execution_count": 47,
     "metadata": {},
     "output_type": "execute_result"
    },
    {
     "data": {
      "image/png": "[encoded data removed]",
      "text/plain": [
       "<Figure size 432x288 with 2 Axes>"
      ]
     },
     "metadata": {
      "needs_background": "light"
     },
     "output_type": "display_data"
    }
   ],
   "source": [
    "# Decision Tree Classifier\n",
    "clf_dt = DecisionTreeClassifier(max_leaf_nodes=28, random_state=0,\n",
    "                                   criterion='entropy')\n",
    "clf_dt.fit(x_train,y_train)\n",
    "y_pred = clf_dt.predict(x_test)\n",
    "\n",
    "actrain = accuracy_score(y_train,clf_dt.predict(x_train))\n",
    "print('Train accuracy is: ',actrain)\n",
    "    \n",
    "ac = accuracy_score(y_test,clf_dt.predict(x_test))\n",
    "print('Test accuracy is: ',ac)\n",
    "cm = confusion_matrix(y_test,clf_dt.predict(x_test))\n",
    "\n",
    "#prec = precision_score(y_test,clf_dt.predict(x_test))\n",
    "#print('Precision score is: ',prec)\n",
    "\n",
    "#rec = recall_score(y_test,clf_dt.predict(x_test))\n",
    "#print('Recall score is: ',rec)\n",
    "\n",
    "sns.heatmap(cm,annot=True,fmt=\"d\")\n",
    "\n"
   ]
  },
  {
   "cell_type": "markdown",
   "metadata": {},
   "source": [
    "### Visualize the Decision Tree"
   ]
  },
  {
   "cell_type": "code",
   "execution_count": 48,
   "metadata": {},
   "outputs": [
    {
     "data": {
      "image/svg+xml": [
       "<?xml version=\"1.0\" encoding=\"UTF-8\" standalone=\"no\"?>\r\n",
       "<!DOCTYPE svg PUBLIC \"-//W3C//DTD SVG 1.1//EN\"\r\n",
       " \"http://www.w3.org/Graphics/SVG/1.1/DTD/svg11.dtd\">\r\n",
       "<!-- Generated by graphviz version 2.38.0 (20140413.2041)\r\n",
       " -->\r\n",
       "<!-- Title: Tree Pages: 1 -->\r\n",
       "<svg width=\"1369pt\" height=\"1261pt\"\r\n",
       " viewBox=\"0.00 0.00 1369.00 1261.00\" xmlns=\"http://www.w3.org/2000/svg\" xmlns:xlink=\"http://www.w3.org/1999/xlink\">\r\n",
       "<g id=\"graph0\" class=\"graph\" transform=\"scale(1 1) rotate(0) translate(4 1257)\">\r\n",
       "<title>Tree</title>\r\n",
       "<polygon fill=\"white\" stroke=\"none\" points=\"-4,4 -4,-1257 1365,-1257 1365,4 -4,4\"/>\r\n",
       "<!-- 0 -->\r\n",
       "<g id=\"node1\" class=\"node\"><title>0</title>\r\n",
       "<path fill=\"#fdfeff\" stroke=\"black\" d=\"M1078.5,-1253C1078.5,-1253 972.5,-1253 972.5,-1253 966.5,-1253 960.5,-1247 960.5,-1241 960.5,-1241 960.5,-1201 960.5,-1201 960.5,-1195 966.5,-1189 972.5,-1189 972.5,-1189 1078.5,-1189 1078.5,-1189 1084.5,-1189 1090.5,-1195 1090.5,-1201 1090.5,-1201 1090.5,-1241 1090.5,-1241 1090.5,-1247 1084.5,-1253 1078.5,-1253\"/>\r\n",
       "<text text-anchor=\"start\" x=\"978.5\" y=\"-1238.8\" font-family=\"Helvetica,sans-Serif\" font-size=\"14.00\">X</text>\r\n",
       "<text text-anchor=\"start\" x=\"988.5\" y=\"-1238.8\" font-family=\"Helvetica,sans-Serif\" baseline-shift=\"sub\" font-size=\"14.00\">3</text>\r\n",
       "<text text-anchor=\"start\" x=\"995.5\" y=\"-1238.8\" font-family=\"Helvetica,sans-Serif\" font-size=\"14.00\"> ≤ 300000.0</text>\r\n",
       "<text text-anchor=\"start\" x=\"983.5\" y=\"-1224.8\" font-family=\"Helvetica,sans-Serif\" font-size=\"14.00\">entropy = 1.0</text>\r\n",
       "<text text-anchor=\"start\" x=\"974\" y=\"-1210.8\" font-family=\"Helvetica,sans-Serif\" font-size=\"14.00\">samples = 1117</text>\r\n",
       "<text text-anchor=\"start\" x=\"968.5\" y=\"-1196.8\" font-family=\"Helvetica,sans-Serif\" font-size=\"14.00\">value = [555, 562]</text>\r\n",
       "</g>\r\n",
       "<!-- 1 -->\r\n",
       "<g id=\"node2\" class=\"node\"><title>1</title>\r\n",
       "<path fill=\"#85c3ef\" stroke=\"black\" d=\"M927.5,-1153C927.5,-1153 821.5,-1153 821.5,-1153 815.5,-1153 809.5,-1147 809.5,-1141 809.5,-1141 809.5,-1101 809.5,-1101 809.5,-1095 815.5,-1089 821.5,-1089 821.5,-1089 927.5,-1089 927.5,-1089 933.5,-1089 939.5,-1095 939.5,-1101 939.5,-1101 939.5,-1141 939.5,-1141 939.5,-1147 933.5,-1153 927.5,-1153\"/>\r\n",
       "<text text-anchor=\"start\" x=\"844.5\" y=\"-1138.8\" font-family=\"Helvetica,sans-Serif\" font-size=\"14.00\">X</text>\r\n",
       "<text text-anchor=\"start\" x=\"854.5\" y=\"-1138.8\" font-family=\"Helvetica,sans-Serif\" baseline-shift=\"sub\" font-size=\"14.00\">13</text>\r\n",
       "<text text-anchor=\"start\" x=\"868.5\" y=\"-1138.8\" font-family=\"Helvetica,sans-Serif\" font-size=\"14.00\"> ≤ 0.5</text>\r\n",
       "<text text-anchor=\"start\" x=\"824.5\" y=\"-1124.8\" font-family=\"Helvetica,sans-Serif\" font-size=\"14.00\">entropy = 0.852</text>\r\n",
       "<text text-anchor=\"start\" x=\"827\" y=\"-1110.8\" font-family=\"Helvetica,sans-Serif\" font-size=\"14.00\">samples = 743</text>\r\n",
       "<text text-anchor=\"start\" x=\"817.5\" y=\"-1096.8\" font-family=\"Helvetica,sans-Serif\" font-size=\"14.00\">value = [206, 537]</text>\r\n",
       "</g>\r\n",
       "<!-- 0&#45;&gt;1 -->\r\n",
       "<g id=\"edge1\" class=\"edge\"><title>0&#45;&gt;1</title>\r\n",
       "<path fill=\"none\" stroke=\"black\" d=\"M977.723,-1188.99C962.851,-1179.34 946.312,-1168.61 930.908,-1158.61\"/>\r\n",
       "<polygon fill=\"black\" stroke=\"black\" points=\"932.779,-1155.65 922.485,-1153.14 928.968,-1161.52 932.779,-1155.65\"/>\r\n",
       "<text text-anchor=\"middle\" x=\"927.69\" y=\"-1173.89\" font-family=\"Helvetica,sans-Serif\" font-size=\"14.00\">True</text>\r\n",
       "</g>\r\n",
       "<!-- 2 -->\r\n",
       "<g id=\"node39\" class=\"node\"><title>2</title>\r\n",
       "<path fill=\"#e78a47\" stroke=\"black\" d=\"M1225.5,-1153C1225.5,-1153 1127.5,-1153 1127.5,-1153 1121.5,-1153 1115.5,-1147 1115.5,-1141 1115.5,-1141 1115.5,-1101 1115.5,-1101 1115.5,-1095 1121.5,-1089 1127.5,-1089 1127.5,-1089 1225.5,-1089 1225.5,-1089 1231.5,-1089 1237.5,-1095 1237.5,-1101 1237.5,-1101 1237.5,-1141 1237.5,-1141 1237.5,-1147 1231.5,-1153 1225.5,-1153\"/>\r\n",
       "<text text-anchor=\"start\" x=\"1146.5\" y=\"-1138.8\" font-family=\"Helvetica,sans-Serif\" font-size=\"14.00\">X</text>\r\n",
       "<text text-anchor=\"start\" x=\"1156.5\" y=\"-1138.8\" font-family=\"Helvetica,sans-Serif\" baseline-shift=\"sub\" font-size=\"14.00\">17</text>\r\n",
       "<text text-anchor=\"start\" x=\"1170.5\" y=\"-1138.8\" font-family=\"Helvetica,sans-Serif\" font-size=\"14.00\"> ≤ 0.5</text>\r\n",
       "<text text-anchor=\"start\" x=\"1126.5\" y=\"-1124.8\" font-family=\"Helvetica,sans-Serif\" font-size=\"14.00\">entropy = 0.354</text>\r\n",
       "<text text-anchor=\"start\" x=\"1129\" y=\"-1110.8\" font-family=\"Helvetica,sans-Serif\" font-size=\"14.00\">samples = 374</text>\r\n",
       "<text text-anchor=\"start\" x=\"1123.5\" y=\"-1096.8\" font-family=\"Helvetica,sans-Serif\" font-size=\"14.00\">value = [349, 25]</text>\r\n",
       "</g>\r\n",
       "<!-- 0&#45;&gt;2 -->\r\n",
       "<g id=\"edge38\" class=\"edge\"><title>0&#45;&gt;2</title>\r\n",
       "<path fill=\"none\" stroke=\"black\" d=\"M1073.28,-1188.99C1088.15,-1179.34 1104.69,-1168.61 1120.09,-1158.61\"/>\r\n",
       "<polygon fill=\"black\" stroke=\"black\" points=\"1122.03,-1161.52 1128.52,-1153.14 1118.22,-1155.65 1122.03,-1161.52\"/>\r\n",
       "<text text-anchor=\"middle\" x=\"1123.31\" y=\"-1173.89\" font-family=\"Helvetica,sans-Serif\" font-size=\"14.00\">False</text>\r\n",
       "</g>\r\n",
       "<!-- 3 -->\r\n",
       "<g id=\"node3\" class=\"node\"><title>3</title>\r\n",
       "<path fill=\"#62b1ea\" stroke=\"black\" d=\"M560.5,-1053C560.5,-1053 454.5,-1053 454.5,-1053 448.5,-1053 442.5,-1047 442.5,-1041 442.5,-1041 442.5,-1001 442.5,-1001 442.5,-995 448.5,-989 454.5,-989 454.5,-989 560.5,-989 560.5,-989 566.5,-989 572.5,-995 572.5,-1001 572.5,-1001 572.5,-1041 572.5,-1041 572.5,-1047 566.5,-1053 560.5,-1053\"/>\r\n",
       "<text text-anchor=\"start\" x=\"468.5\" y=\"-1038.8\" font-family=\"Helvetica,sans-Serif\" font-size=\"14.00\">X</text>\r\n",
       "<text text-anchor=\"start\" x=\"478.5\" y=\"-1038.8\" font-family=\"Helvetica,sans-Serif\" baseline-shift=\"sub\" font-size=\"14.00\">3</text>\r\n",
       "<text text-anchor=\"start\" x=\"485.5\" y=\"-1038.8\" font-family=\"Helvetica,sans-Serif\" font-size=\"14.00\"> ≤ 7500.0</text>\r\n",
       "<text text-anchor=\"start\" x=\"457.5\" y=\"-1024.8\" font-family=\"Helvetica,sans-Serif\" font-size=\"14.00\">entropy = 0.664</text>\r\n",
       "<text text-anchor=\"start\" x=\"460\" y=\"-1010.8\" font-family=\"Helvetica,sans-Serif\" font-size=\"14.00\">samples = 643</text>\r\n",
       "<text text-anchor=\"start\" x=\"450.5\" y=\"-996.8\" font-family=\"Helvetica,sans-Serif\" font-size=\"14.00\">value = [111, 532]</text>\r\n",
       "</g>\r\n",
       "<!-- 1&#45;&gt;3 -->\r\n",
       "<g id=\"edge2\" class=\"edge\"><title>1&#45;&gt;3</title>\r\n",
       "<path fill=\"none\" stroke=\"black\" d=\"M809.311,-1102.59C745.832,-1085.64 649.425,-1059.9 582.728,-1042.09\"/>\r\n",
       "<polygon fill=\"black\" stroke=\"black\" points=\"583.264,-1038.61 572.699,-1039.41 581.458,-1045.37 583.264,-1038.61\"/>\r\n",
       "</g>\r\n",
       "<!-- 4 -->\r\n",
       "<g id=\"node32\" class=\"node\"><title>4</title>\r\n",
       "<path fill=\"#e68843\" stroke=\"black\" d=\"M920.5,-1053C920.5,-1053 828.5,-1053 828.5,-1053 822.5,-1053 816.5,-1047 816.5,-1041 816.5,-1041 816.5,-1001 816.5,-1001 816.5,-995 822.5,-989 828.5,-989 828.5,-989 920.5,-989 920.5,-989 926.5,-989 932.5,-995 932.5,-1001 932.5,-1001 932.5,-1041 932.5,-1041 932.5,-1047 926.5,-1053 920.5,-1053\"/>\r\n",
       "<text text-anchor=\"start\" x=\"844.5\" y=\"-1038.8\" font-family=\"Helvetica,sans-Serif\" font-size=\"14.00\">X</text>\r\n",
       "<text text-anchor=\"start\" x=\"854.5\" y=\"-1038.8\" font-family=\"Helvetica,sans-Serif\" baseline-shift=\"sub\" font-size=\"14.00\">46</text>\r\n",
       "<text text-anchor=\"start\" x=\"868.5\" y=\"-1038.8\" font-family=\"Helvetica,sans-Serif\" font-size=\"14.00\"> ≤ 0.5</text>\r\n",
       "<text text-anchor=\"start\" x=\"824.5\" y=\"-1024.8\" font-family=\"Helvetica,sans-Serif\" font-size=\"14.00\">entropy = 0.286</text>\r\n",
       "<text text-anchor=\"start\" x=\"827\" y=\"-1010.8\" font-family=\"Helvetica,sans-Serif\" font-size=\"14.00\">samples = 100</text>\r\n",
       "<text text-anchor=\"start\" x=\"830\" y=\"-996.8\" font-family=\"Helvetica,sans-Serif\" font-size=\"14.00\">value = [95, 5]</text>\r\n",
       "</g>\r\n",
       "<!-- 1&#45;&gt;4 -->\r\n",
       "<g id=\"edge31\" class=\"edge\"><title>1&#45;&gt;4</title>\r\n",
       "<path fill=\"none\" stroke=\"black\" d=\"M874.5,-1088.99C874.5,-1080.86 874.5,-1071.96 874.5,-1063.38\"/>\r\n",
       "<polygon fill=\"black\" stroke=\"black\" points=\"878,-1063.14 874.5,-1053.14 871,-1063.14 878,-1063.14\"/>\r\n",
       "</g>\r\n",
       "<!-- 5 -->\r\n",
       "<g id=\"node4\" class=\"node\"><title>5</title>\r\n",
       "<path fill=\"#3c9ee5\" stroke=\"black\" d=\"M348.5,-953C348.5,-953 256.5,-953 256.5,-953 250.5,-953 244.5,-947 244.5,-941 244.5,-941 244.5,-901 244.5,-901 244.5,-895 250.5,-889 256.5,-889 256.5,-889 348.5,-889 348.5,-889 354.5,-889 360.5,-895 360.5,-901 360.5,-901 360.5,-941 360.5,-941 360.5,-947 354.5,-953 348.5,-953\"/>\r\n",
       "<text text-anchor=\"start\" x=\"272.5\" y=\"-938.8\" font-family=\"Helvetica,sans-Serif\" font-size=\"14.00\">X</text>\r\n",
       "<text text-anchor=\"start\" x=\"282.5\" y=\"-938.8\" font-family=\"Helvetica,sans-Serif\" baseline-shift=\"sub\" font-size=\"14.00\">11</text>\r\n",
       "<text text-anchor=\"start\" x=\"296.5\" y=\"-938.8\" font-family=\"Helvetica,sans-Serif\" font-size=\"14.00\"> ≤ 0.5</text>\r\n",
       "<text text-anchor=\"start\" x=\"252.5\" y=\"-924.8\" font-family=\"Helvetica,sans-Serif\" font-size=\"14.00\">entropy = 0.107</text>\r\n",
       "<text text-anchor=\"start\" x=\"255\" y=\"-910.8\" font-family=\"Helvetica,sans-Serif\" font-size=\"14.00\">samples = 353</text>\r\n",
       "<text text-anchor=\"start\" x=\"254\" y=\"-896.8\" font-family=\"Helvetica,sans-Serif\" font-size=\"14.00\">value = [5, 348]</text>\r\n",
       "</g>\r\n",
       "<!-- 3&#45;&gt;5 -->\r\n",
       "<g id=\"edge3\" class=\"edge\"><title>3&#45;&gt;5</title>\r\n",
       "<path fill=\"none\" stroke=\"black\" d=\"M442.637,-988.992C419.44,-977.903 393.257,-965.386 369.855,-954.199\"/>\r\n",
       "<polygon fill=\"black\" stroke=\"black\" points=\"371.228,-950.976 360.696,-949.821 368.209,-957.292 371.228,-950.976\"/>\r\n",
       "</g>\r\n",
       "<!-- 6 -->\r\n",
       "<g id=\"node9\" class=\"node\"><title>6</title>\r\n",
       "<path fill=\"#abd5f4\" stroke=\"black\" d=\"M560.5,-953C560.5,-953 454.5,-953 454.5,-953 448.5,-953 442.5,-947 442.5,-941 442.5,-941 442.5,-901 442.5,-901 442.5,-895 448.5,-889 454.5,-889 454.5,-889 560.5,-889 560.5,-889 566.5,-889 572.5,-895 572.5,-901 572.5,-901 572.5,-941 572.5,-941 572.5,-947 566.5,-953 560.5,-953\"/>\r\n",
       "<text text-anchor=\"start\" x=\"477.5\" y=\"-938.8\" font-family=\"Helvetica,sans-Serif\" font-size=\"14.00\">X</text>\r\n",
       "<text text-anchor=\"start\" x=\"487.5\" y=\"-938.8\" font-family=\"Helvetica,sans-Serif\" baseline-shift=\"sub\" font-size=\"14.00\">17</text>\r\n",
       "<text text-anchor=\"start\" x=\"501.5\" y=\"-938.8\" font-family=\"Helvetica,sans-Serif\" font-size=\"14.00\"> ≤ 0.5</text>\r\n",
       "<text text-anchor=\"start\" x=\"457.5\" y=\"-924.8\" font-family=\"Helvetica,sans-Serif\" font-size=\"14.00\">entropy = 0.947</text>\r\n",
       "<text text-anchor=\"start\" x=\"460\" y=\"-910.8\" font-family=\"Helvetica,sans-Serif\" font-size=\"14.00\">samples = 290</text>\r\n",
       "<text text-anchor=\"start\" x=\"450.5\" y=\"-896.8\" font-family=\"Helvetica,sans-Serif\" font-size=\"14.00\">value = [106, 184]</text>\r\n",
       "</g>\r\n",
       "<!-- 3&#45;&gt;6 -->\r\n",
       "<g id=\"edge8\" class=\"edge\"><title>3&#45;&gt;6</title>\r\n",
       "<path fill=\"none\" stroke=\"black\" d=\"M507.5,-988.992C507.5,-980.859 507.5,-971.959 507.5,-963.378\"/>\r\n",
       "<polygon fill=\"black\" stroke=\"black\" points=\"511,-963.142 507.5,-953.142 504,-963.142 511,-963.142\"/>\r\n",
       "</g>\r\n",
       "<!-- 25 -->\r\n",
       "<g id=\"node5\" class=\"node\"><title>25</title>\r\n",
       "<path fill=\"#3a9ee5\" stroke=\"black\" d=\"M222.5,-853C222.5,-853 130.5,-853 130.5,-853 124.5,-853 118.5,-847 118.5,-841 118.5,-841 118.5,-801 118.5,-801 118.5,-795 124.5,-789 130.5,-789 130.5,-789 222.5,-789 222.5,-789 228.5,-789 234.5,-795 234.5,-801 234.5,-801 234.5,-841 234.5,-841 234.5,-847 228.5,-853 222.5,-853\"/>\r\n",
       "<text text-anchor=\"start\" x=\"150\" y=\"-838.8\" font-family=\"Helvetica,sans-Serif\" font-size=\"14.00\">X</text>\r\n",
       "<text text-anchor=\"start\" x=\"160\" y=\"-838.8\" font-family=\"Helvetica,sans-Serif\" baseline-shift=\"sub\" font-size=\"14.00\">8</text>\r\n",
       "<text text-anchor=\"start\" x=\"167\" y=\"-838.8\" font-family=\"Helvetica,sans-Serif\" font-size=\"14.00\"> ≤ 0.5</text>\r\n",
       "<text text-anchor=\"start\" x=\"126.5\" y=\"-824.8\" font-family=\"Helvetica,sans-Serif\" font-size=\"14.00\">entropy = 0.051</text>\r\n",
       "<text text-anchor=\"start\" x=\"129\" y=\"-810.8\" font-family=\"Helvetica,sans-Serif\" font-size=\"14.00\">samples = 350</text>\r\n",
       "<text text-anchor=\"start\" x=\"128\" y=\"-796.8\" font-family=\"Helvetica,sans-Serif\" font-size=\"14.00\">value = [2, 348]</text>\r\n",
       "</g>\r\n",
       "<!-- 5&#45;&gt;25 -->\r\n",
       "<g id=\"edge4\" class=\"edge\"><title>5&#45;&gt;25</title>\r\n",
       "<path fill=\"none\" stroke=\"black\" d=\"M262.633,-888.992C250.568,-879.608 237.188,-869.202 224.642,-859.444\"/>\r\n",
       "<polygon fill=\"black\" stroke=\"black\" points=\"226.583,-856.519 216.54,-853.142 222.285,-862.045 226.583,-856.519\"/>\r\n",
       "</g>\r\n",
       "<!-- 26 -->\r\n",
       "<g id=\"node8\" class=\"node\"><title>26</title>\r\n",
       "<path fill=\"#e58139\" stroke=\"black\" d=\"M340.5,-847.5C340.5,-847.5 264.5,-847.5 264.5,-847.5 258.5,-847.5 252.5,-841.5 252.5,-835.5 252.5,-835.5 252.5,-806.5 252.5,-806.5 252.5,-800.5 258.5,-794.5 264.5,-794.5 264.5,-794.5 340.5,-794.5 340.5,-794.5 346.5,-794.5 352.5,-800.5 352.5,-806.5 352.5,-806.5 352.5,-835.5 352.5,-835.5 352.5,-841.5 346.5,-847.5 340.5,-847.5\"/>\r\n",
       "<text text-anchor=\"start\" x=\"260.5\" y=\"-832.3\" font-family=\"Helvetica,sans-Serif\" font-size=\"14.00\">entropy = 0.0</text>\r\n",
       "<text text-anchor=\"start\" x=\"263\" y=\"-817.3\" font-family=\"Helvetica,sans-Serif\" font-size=\"14.00\">samples = 3</text>\r\n",
       "<text text-anchor=\"start\" x=\"262\" y=\"-802.3\" font-family=\"Helvetica,sans-Serif\" font-size=\"14.00\">value = [3, 0]</text>\r\n",
       "</g>\r\n",
       "<!-- 5&#45;&gt;26 -->\r\n",
       "<g id=\"edge7\" class=\"edge\"><title>5&#45;&gt;26</title>\r\n",
       "<path fill=\"none\" stroke=\"black\" d=\"M302.5,-888.992C302.5,-879.087 302.5,-868.042 302.5,-857.824\"/>\r\n",
       "<polygon fill=\"black\" stroke=\"black\" points=\"306,-857.556 302.5,-847.556 299,-857.556 306,-857.556\"/>\r\n",
       "</g>\r\n",
       "<!-- 31 -->\r\n",
       "<g id=\"node6\" class=\"node\"><title>31</title>\r\n",
       "<path fill=\"#399de5\" stroke=\"black\" d=\"M220,-747.5C220,-747.5 131,-747.5 131,-747.5 125,-747.5 119,-741.5 119,-735.5 119,-735.5 119,-706.5 119,-706.5 119,-700.5 125,-694.5 131,-694.5 131,-694.5 220,-694.5 220,-694.5 226,-694.5 232,-700.5 232,-706.5 232,-706.5 232,-735.5 232,-735.5 232,-741.5 226,-747.5 220,-747.5\"/>\r\n",
       "<text text-anchor=\"start\" x=\"133.5\" y=\"-732.3\" font-family=\"Helvetica,sans-Serif\" font-size=\"14.00\">entropy = 0.0</text>\r\n",
       "<text text-anchor=\"start\" x=\"128\" y=\"-717.3\" font-family=\"Helvetica,sans-Serif\" font-size=\"14.00\">samples = 348</text>\r\n",
       "<text text-anchor=\"start\" x=\"127\" y=\"-702.3\" font-family=\"Helvetica,sans-Serif\" font-size=\"14.00\">value = [0, 348]</text>\r\n",
       "</g>\r\n",
       "<!-- 25&#45;&gt;31 -->\r\n",
       "<g id=\"edge5\" class=\"edge\"><title>25&#45;&gt;31</title>\r\n",
       "<path fill=\"none\" stroke=\"black\" d=\"M176.184,-788.992C176.083,-779.087 175.97,-768.042 175.866,-757.824\"/>\r\n",
       "<polygon fill=\"black\" stroke=\"black\" points=\"179.363,-757.52 175.761,-747.556 172.363,-757.592 179.363,-757.52\"/>\r\n",
       "</g>\r\n",
       "<!-- 32 -->\r\n",
       "<g id=\"node7\" class=\"node\"><title>32</title>\r\n",
       "<path fill=\"#e58139\" stroke=\"black\" d=\"M338.5,-747.5C338.5,-747.5 262.5,-747.5 262.5,-747.5 256.5,-747.5 250.5,-741.5 250.5,-735.5 250.5,-735.5 250.5,-706.5 250.5,-706.5 250.5,-700.5 256.5,-694.5 262.5,-694.5 262.5,-694.5 338.5,-694.5 338.5,-694.5 344.5,-694.5 350.5,-700.5 350.5,-706.5 350.5,-706.5 350.5,-735.5 350.5,-735.5 350.5,-741.5 344.5,-747.5 338.5,-747.5\"/>\r\n",
       "<text text-anchor=\"start\" x=\"258.5\" y=\"-732.3\" font-family=\"Helvetica,sans-Serif\" font-size=\"14.00\">entropy = 0.0</text>\r\n",
       "<text text-anchor=\"start\" x=\"261\" y=\"-717.3\" font-family=\"Helvetica,sans-Serif\" font-size=\"14.00\">samples = 2</text>\r\n",
       "<text text-anchor=\"start\" x=\"260\" y=\"-702.3\" font-family=\"Helvetica,sans-Serif\" font-size=\"14.00\">value = [2, 0]</text>\r\n",
       "</g>\r\n",
       "<!-- 25&#45;&gt;32 -->\r\n",
       "<g id=\"edge6\" class=\"edge\"><title>25&#45;&gt;32</title>\r\n",
       "<path fill=\"none\" stroke=\"black\" d=\"M215.734,-788.992C229.851,-777.836 245.796,-765.234 260.016,-753.995\"/>\r\n",
       "<polygon fill=\"black\" stroke=\"black\" points=\"262.488,-756.503 268.163,-747.556 258.148,-751.011 262.488,-756.503\"/>\r\n",
       "</g>\r\n",
       "<!-- 9 -->\r\n",
       "<g id=\"node10\" class=\"node\"><title>9</title>\r\n",
       "<path fill=\"#d3e9f9\" stroke=\"black\" d=\"M488.5,-853C488.5,-853 382.5,-853 382.5,-853 376.5,-853 370.5,-847 370.5,-841 370.5,-841 370.5,-801 370.5,-801 370.5,-795 376.5,-789 382.5,-789 382.5,-789 488.5,-789 488.5,-789 494.5,-789 500.5,-795 500.5,-801 500.5,-801 500.5,-841 500.5,-841 500.5,-847 494.5,-853 488.5,-853\"/>\r\n",
       "<text text-anchor=\"start\" x=\"409\" y=\"-838.8\" font-family=\"Helvetica,sans-Serif\" font-size=\"14.00\">X</text>\r\n",
       "<text text-anchor=\"start\" x=\"419\" y=\"-838.8\" font-family=\"Helvetica,sans-Serif\" baseline-shift=\"sub\" font-size=\"14.00\">7</text>\r\n",
       "<text text-anchor=\"start\" x=\"426\" y=\"-838.8\" font-family=\"Helvetica,sans-Serif\" font-size=\"14.00\"> ≤ 0.5</text>\r\n",
       "<text text-anchor=\"start\" x=\"385.5\" y=\"-824.8\" font-family=\"Helvetica,sans-Serif\" font-size=\"14.00\">entropy = 0.989</text>\r\n",
       "<text text-anchor=\"start\" x=\"388\" y=\"-810.8\" font-family=\"Helvetica,sans-Serif\" font-size=\"14.00\">samples = 242</text>\r\n",
       "<text text-anchor=\"start\" x=\"378.5\" y=\"-796.8\" font-family=\"Helvetica,sans-Serif\" font-size=\"14.00\">value = [106, 136]</text>\r\n",
       "</g>\r\n",
       "<!-- 6&#45;&gt;9 -->\r\n",
       "<g id=\"edge9\" class=\"edge\"><title>6&#45;&gt;9</title>\r\n",
       "<path fill=\"none\" stroke=\"black\" d=\"M484.719,-888.992C478.284,-880.234 471.195,-870.585 464.45,-861.404\"/>\r\n",
       "<polygon fill=\"black\" stroke=\"black\" points=\"467.122,-859.129 458.38,-853.142 461.48,-863.274 467.122,-859.129\"/>\r\n",
       "</g>\r\n",
       "<!-- 10 -->\r\n",
       "<g id=\"node31\" class=\"node\"><title>10</title>\r\n",
       "<path fill=\"#399de5\" stroke=\"black\" d=\"M612,-847.5C612,-847.5 531,-847.5 531,-847.5 525,-847.5 519,-841.5 519,-835.5 519,-835.5 519,-806.5 519,-806.5 519,-800.5 525,-794.5 531,-794.5 531,-794.5 612,-794.5 612,-794.5 618,-794.5 624,-800.5 624,-806.5 624,-806.5 624,-835.5 624,-835.5 624,-841.5 618,-847.5 612,-847.5\"/>\r\n",
       "<text text-anchor=\"start\" x=\"529.5\" y=\"-832.3\" font-family=\"Helvetica,sans-Serif\" font-size=\"14.00\">entropy = 0.0</text>\r\n",
       "<text text-anchor=\"start\" x=\"528\" y=\"-817.3\" font-family=\"Helvetica,sans-Serif\" font-size=\"14.00\">samples = 48</text>\r\n",
       "<text text-anchor=\"start\" x=\"527\" y=\"-802.3\" font-family=\"Helvetica,sans-Serif\" font-size=\"14.00\">value = [0, 48]</text>\r\n",
       "</g>\r\n",
       "<!-- 6&#45;&gt;10 -->\r\n",
       "<g id=\"edge30\" class=\"edge\"><title>6&#45;&gt;10</title>\r\n",
       "<path fill=\"none\" stroke=\"black\" d=\"M527.75,-888.992C534.559,-878.566 542.193,-866.877 549.154,-856.218\"/>\r\n",
       "<polygon fill=\"black\" stroke=\"black\" points=\"552.273,-857.843 554.81,-847.556 546.412,-854.015 552.273,-857.843\"/>\r\n",
       "</g>\r\n",
       "<!-- 11 -->\r\n",
       "<g id=\"node11\" class=\"node\"><title>11</title>\r\n",
       "<path fill=\"#b1d9f5\" stroke=\"black\" d=\"M480.5,-753C480.5,-753 382.5,-753 382.5,-753 376.5,-753 370.5,-747 370.5,-741 370.5,-741 370.5,-701 370.5,-701 370.5,-695 376.5,-689 382.5,-689 382.5,-689 480.5,-689 480.5,-689 486.5,-689 492.5,-695 492.5,-701 492.5,-701 492.5,-741 492.5,-741 492.5,-747 486.5,-753 480.5,-753\"/>\r\n",
       "<text text-anchor=\"start\" x=\"405\" y=\"-738.8\" font-family=\"Helvetica,sans-Serif\" font-size=\"14.00\">X</text>\r\n",
       "<text text-anchor=\"start\" x=\"415\" y=\"-738.8\" font-family=\"Helvetica,sans-Serif\" baseline-shift=\"sub\" font-size=\"14.00\">6</text>\r\n",
       "<text text-anchor=\"start\" x=\"422\" y=\"-738.8\" font-family=\"Helvetica,sans-Serif\" font-size=\"14.00\"> ≤ 0.5</text>\r\n",
       "<text text-anchor=\"start\" x=\"381.5\" y=\"-724.8\" font-family=\"Helvetica,sans-Serif\" font-size=\"14.00\">entropy = 0.957</text>\r\n",
       "<text text-anchor=\"start\" x=\"384\" y=\"-710.8\" font-family=\"Helvetica,sans-Serif\" font-size=\"14.00\">samples = 217</text>\r\n",
       "<text text-anchor=\"start\" x=\"378.5\" y=\"-696.8\" font-family=\"Helvetica,sans-Serif\" font-size=\"14.00\">value = [82, 135]</text>\r\n",
       "</g>\r\n",
       "<!-- 9&#45;&gt;11 -->\r\n",
       "<g id=\"edge10\" class=\"edge\"><title>9&#45;&gt;11</title>\r\n",
       "<path fill=\"none\" stroke=\"black\" d=\"M434.234,-788.992C433.902,-780.859 433.539,-771.959 433.189,-763.378\"/>\r\n",
       "<polygon fill=\"black\" stroke=\"black\" points=\"436.676,-762.991 432.771,-753.142 429.682,-763.277 436.676,-762.991\"/>\r\n",
       "</g>\r\n",
       "<!-- 12 -->\r\n",
       "<g id=\"node30\" class=\"node\"><title>12</title>\r\n",
       "<path fill=\"#e68641\" stroke=\"black\" d=\"M614.5,-747.5C614.5,-747.5 522.5,-747.5 522.5,-747.5 516.5,-747.5 510.5,-741.5 510.5,-735.5 510.5,-735.5 510.5,-706.5 510.5,-706.5 510.5,-700.5 516.5,-694.5 522.5,-694.5 522.5,-694.5 614.5,-694.5 614.5,-694.5 620.5,-694.5 626.5,-700.5 626.5,-706.5 626.5,-706.5 626.5,-735.5 626.5,-735.5 626.5,-741.5 620.5,-747.5 614.5,-747.5\"/>\r\n",
       "<text text-anchor=\"start\" x=\"518.5\" y=\"-732.3\" font-family=\"Helvetica,sans-Serif\" font-size=\"14.00\">entropy = 0.242</text>\r\n",
       "<text text-anchor=\"start\" x=\"525\" y=\"-717.3\" font-family=\"Helvetica,sans-Serif\" font-size=\"14.00\">samples = 25</text>\r\n",
       "<text text-anchor=\"start\" x=\"524\" y=\"-702.3\" font-family=\"Helvetica,sans-Serif\" font-size=\"14.00\">value = [24, 1]</text>\r\n",
       "</g>\r\n",
       "<!-- 9&#45;&gt;12 -->\r\n",
       "<g id=\"edge29\" class=\"edge\"><title>9&#45;&gt;12</title>\r\n",
       "<path fill=\"none\" stroke=\"black\" d=\"M477.582,-788.992C492.865,-777.731 510.145,-764.998 525.505,-753.68\"/>\r\n",
       "<polygon fill=\"black\" stroke=\"black\" points=\"527.842,-756.306 533.816,-747.556 523.69,-750.671 527.842,-756.306\"/>\r\n",
       "</g>\r\n",
       "<!-- 13 -->\r\n",
       "<g id=\"node12\" class=\"node\"><title>13</title>\r\n",
       "<path fill=\"#93caf1\" stroke=\"black\" d=\"M377.5,-653C377.5,-653 279.5,-653 279.5,-653 273.5,-653 267.5,-647 267.5,-641 267.5,-641 267.5,-601 267.5,-601 267.5,-595 273.5,-589 279.5,-589 279.5,-589 377.5,-589 377.5,-589 383.5,-589 389.5,-595 389.5,-601 389.5,-601 389.5,-641 389.5,-641 389.5,-647 383.5,-653 377.5,-653\"/>\r\n",
       "<text text-anchor=\"start\" x=\"302\" y=\"-638.8\" font-family=\"Helvetica,sans-Serif\" font-size=\"14.00\">X</text>\r\n",
       "<text text-anchor=\"start\" x=\"312\" y=\"-638.8\" font-family=\"Helvetica,sans-Serif\" baseline-shift=\"sub\" font-size=\"14.00\">8</text>\r\n",
       "<text text-anchor=\"start\" x=\"319\" y=\"-638.8\" font-family=\"Helvetica,sans-Serif\" font-size=\"14.00\"> ≤ 0.5</text>\r\n",
       "<text text-anchor=\"start\" x=\"278.5\" y=\"-624.8\" font-family=\"Helvetica,sans-Serif\" font-size=\"14.00\">entropy = 0.896</text>\r\n",
       "<text text-anchor=\"start\" x=\"281\" y=\"-610.8\" font-family=\"Helvetica,sans-Serif\" font-size=\"14.00\">samples = 195</text>\r\n",
       "<text text-anchor=\"start\" x=\"275.5\" y=\"-596.8\" font-family=\"Helvetica,sans-Serif\" font-size=\"14.00\">value = [61, 134]</text>\r\n",
       "</g>\r\n",
       "<!-- 11&#45;&gt;13 -->\r\n",
       "<g id=\"edge11\" class=\"edge\"><title>11&#45;&gt;13</title>\r\n",
       "<path fill=\"none\" stroke=\"black\" d=\"M398.91,-688.992C389.329,-679.876 378.734,-669.796 368.735,-660.282\"/>\r\n",
       "<polygon fill=\"black\" stroke=\"black\" points=\"370.889,-657.5 361.231,-653.142 366.064,-662.571 370.889,-657.5\"/>\r\n",
       "</g>\r\n",
       "<!-- 14 -->\r\n",
       "<g id=\"node29\" class=\"node\"><title>14</title>\r\n",
       "<path fill=\"#e68742\" stroke=\"black\" d=\"M511.5,-647.5C511.5,-647.5 419.5,-647.5 419.5,-647.5 413.5,-647.5 407.5,-641.5 407.5,-635.5 407.5,-635.5 407.5,-606.5 407.5,-606.5 407.5,-600.5 413.5,-594.5 419.5,-594.5 419.5,-594.5 511.5,-594.5 511.5,-594.5 517.5,-594.5 523.5,-600.5 523.5,-606.5 523.5,-606.5 523.5,-635.5 523.5,-635.5 523.5,-641.5 517.5,-647.5 511.5,-647.5\"/>\r\n",
       "<text text-anchor=\"start\" x=\"415.5\" y=\"-632.3\" font-family=\"Helvetica,sans-Serif\" font-size=\"14.00\">entropy = 0.267</text>\r\n",
       "<text text-anchor=\"start\" x=\"422\" y=\"-617.3\" font-family=\"Helvetica,sans-Serif\" font-size=\"14.00\">samples = 22</text>\r\n",
       "<text text-anchor=\"start\" x=\"421\" y=\"-602.3\" font-family=\"Helvetica,sans-Serif\" font-size=\"14.00\">value = [21, 1]</text>\r\n",
       "</g>\r\n",
       "<!-- 11&#45;&gt;14 -->\r\n",
       "<g id=\"edge28\" class=\"edge\"><title>11&#45;&gt;14</title>\r\n",
       "<path fill=\"none\" stroke=\"black\" d=\"M442.258,-688.992C445.767,-678.878 449.688,-667.577 453.295,-657.18\"/>\r\n",
       "<polygon fill=\"black\" stroke=\"black\" points=\"456.662,-658.151 456.633,-647.556 450.049,-655.857 456.662,-658.151\"/>\r\n",
       "</g>\r\n",
       "<!-- 15 -->\r\n",
       "<g id=\"node13\" class=\"node\"><title>15</title>\r\n",
       "<path fill=\"#7bbeee\" stroke=\"black\" d=\"M374.5,-553C374.5,-553 276.5,-553 276.5,-553 270.5,-553 264.5,-547 264.5,-541 264.5,-541 264.5,-501 264.5,-501 264.5,-495 270.5,-489 276.5,-489 276.5,-489 374.5,-489 374.5,-489 380.5,-489 386.5,-495 386.5,-501 386.5,-501 386.5,-541 386.5,-541 386.5,-547 380.5,-553 374.5,-553\"/>\r\n",
       "<text text-anchor=\"start\" x=\"295.5\" y=\"-538.8\" font-family=\"Helvetica,sans-Serif\" font-size=\"14.00\">X</text>\r\n",
       "<text text-anchor=\"start\" x=\"305.5\" y=\"-538.8\" font-family=\"Helvetica,sans-Serif\" baseline-shift=\"sub\" font-size=\"14.00\">11</text>\r\n",
       "<text text-anchor=\"start\" x=\"319.5\" y=\"-538.8\" font-family=\"Helvetica,sans-Serif\" font-size=\"14.00\"> ≤ 0.5</text>\r\n",
       "<text text-anchor=\"start\" x=\"275.5\" y=\"-524.8\" font-family=\"Helvetica,sans-Serif\" font-size=\"14.00\">entropy = 0.813</text>\r\n",
       "<text text-anchor=\"start\" x=\"278\" y=\"-510.8\" font-family=\"Helvetica,sans-Serif\" font-size=\"14.00\">samples = 179</text>\r\n",
       "<text text-anchor=\"start\" x=\"272.5\" y=\"-496.8\" font-family=\"Helvetica,sans-Serif\" font-size=\"14.00\">value = [45, 134]</text>\r\n",
       "</g>\r\n",
       "<!-- 13&#45;&gt;15 -->\r\n",
       "<g id=\"edge12\" class=\"edge\"><title>13&#45;&gt;15</title>\r\n",
       "<path fill=\"none\" stroke=\"black\" d=\"M327.551,-588.992C327.302,-580.859 327.029,-571.959 326.767,-563.378\"/>\r\n",
       "<polygon fill=\"black\" stroke=\"black\" points=\"330.258,-563.031 326.453,-553.142 323.261,-563.245 330.258,-563.031\"/>\r\n",
       "</g>\r\n",
       "<!-- 16 -->\r\n",
       "<g id=\"node28\" class=\"node\"><title>16</title>\r\n",
       "<path fill=\"#e58139\" stroke=\"black\" d=\"M498,-547.5C498,-547.5 417,-547.5 417,-547.5 411,-547.5 405,-541.5 405,-535.5 405,-535.5 405,-506.5 405,-506.5 405,-500.5 411,-494.5 417,-494.5 417,-494.5 498,-494.5 498,-494.5 504,-494.5 510,-500.5 510,-506.5 510,-506.5 510,-535.5 510,-535.5 510,-541.5 504,-547.5 498,-547.5\"/>\r\n",
       "<text text-anchor=\"start\" x=\"415.5\" y=\"-532.3\" font-family=\"Helvetica,sans-Serif\" font-size=\"14.00\">entropy = 0.0</text>\r\n",
       "<text text-anchor=\"start\" x=\"414\" y=\"-517.3\" font-family=\"Helvetica,sans-Serif\" font-size=\"14.00\">samples = 16</text>\r\n",
       "<text text-anchor=\"start\" x=\"413\" y=\"-502.3\" font-family=\"Helvetica,sans-Serif\" font-size=\"14.00\">value = [16, 0]</text>\r\n",
       "</g>\r\n",
       "<!-- 13&#45;&gt;16 -->\r\n",
       "<g id=\"edge27\" class=\"edge\"><title>13&#45;&gt;16</title>\r\n",
       "<path fill=\"none\" stroke=\"black\" d=\"M369.316,-588.992C384.139,-577.731 400.9,-564.998 415.798,-553.68\"/>\r\n",
       "<polygon fill=\"black\" stroke=\"black\" points=\"418.014,-556.393 423.859,-547.556 413.779,-550.819 418.014,-556.393\"/>\r\n",
       "</g>\r\n",
       "<!-- 17 -->\r\n",
       "<g id=\"node14\" class=\"node\"><title>17</title>\r\n",
       "<path fill=\"#6ab5eb\" stroke=\"black\" d=\"M360.5,-453C360.5,-453 262.5,-453 262.5,-453 256.5,-453 250.5,-447 250.5,-441 250.5,-441 250.5,-401 250.5,-401 250.5,-395 256.5,-389 262.5,-389 262.5,-389 360.5,-389 360.5,-389 366.5,-389 372.5,-395 372.5,-401 372.5,-401 372.5,-441 372.5,-441 372.5,-447 366.5,-453 360.5,-453\"/>\r\n",
       "<text text-anchor=\"start\" x=\"281.5\" y=\"-438.8\" font-family=\"Helvetica,sans-Serif\" font-size=\"14.00\">X</text>\r\n",
       "<text text-anchor=\"start\" x=\"291.5\" y=\"-438.8\" font-family=\"Helvetica,sans-Serif\" baseline-shift=\"sub\" font-size=\"14.00\">14</text>\r\n",
       "<text text-anchor=\"start\" x=\"305.5\" y=\"-438.8\" font-family=\"Helvetica,sans-Serif\" font-size=\"14.00\"> ≤ 0.5</text>\r\n",
       "<text text-anchor=\"start\" x=\"261.5\" y=\"-424.8\" font-family=\"Helvetica,sans-Serif\" font-size=\"14.00\">entropy = 0.717</text>\r\n",
       "<text text-anchor=\"start\" x=\"264\" y=\"-410.8\" font-family=\"Helvetica,sans-Serif\" font-size=\"14.00\">samples = 167</text>\r\n",
       "<text text-anchor=\"start\" x=\"258.5\" y=\"-396.8\" font-family=\"Helvetica,sans-Serif\" font-size=\"14.00\">value = [33, 134]</text>\r\n",
       "</g>\r\n",
       "<!-- 15&#45;&gt;17 -->\r\n",
       "<g id=\"edge13\" class=\"edge\"><title>15&#45;&gt;17</title>\r\n",
       "<path fill=\"none\" stroke=\"black\" d=\"M321.07,-488.992C319.896,-480.77 318.609,-471.763 317.371,-463.095\"/>\r\n",
       "<polygon fill=\"black\" stroke=\"black\" points=\"320.828,-462.547 315.949,-453.142 313.898,-463.537 320.828,-462.547\"/>\r\n",
       "</g>\r\n",
       "<!-- 18 -->\r\n",
       "<g id=\"node27\" class=\"node\"><title>18</title>\r\n",
       "<path fill=\"#e58139\" stroke=\"black\" d=\"M484,-447.5C484,-447.5 403,-447.5 403,-447.5 397,-447.5 391,-441.5 391,-435.5 391,-435.5 391,-406.5 391,-406.5 391,-400.5 397,-394.5 403,-394.5 403,-394.5 484,-394.5 484,-394.5 490,-394.5 496,-400.5 496,-406.5 496,-406.5 496,-435.5 496,-435.5 496,-441.5 490,-447.5 484,-447.5\"/>\r\n",
       "<text text-anchor=\"start\" x=\"401.5\" y=\"-432.3\" font-family=\"Helvetica,sans-Serif\" font-size=\"14.00\">entropy = 0.0</text>\r\n",
       "<text text-anchor=\"start\" x=\"400\" y=\"-417.3\" font-family=\"Helvetica,sans-Serif\" font-size=\"14.00\">samples = 12</text>\r\n",
       "<text text-anchor=\"start\" x=\"399\" y=\"-402.3\" font-family=\"Helvetica,sans-Serif\" font-size=\"14.00\">value = [12, 0]</text>\r\n",
       "</g>\r\n",
       "<!-- 15&#45;&gt;18 -->\r\n",
       "<g id=\"edge26\" class=\"edge\"><title>15&#45;&gt;18</title>\r\n",
       "<path fill=\"none\" stroke=\"black\" d=\"M362.836,-488.992C376.269,-477.836 391.443,-465.234 404.975,-453.995\"/>\r\n",
       "<polygon fill=\"black\" stroke=\"black\" points=\"407.271,-456.638 412.728,-447.556 402.799,-451.253 407.271,-456.638\"/>\r\n",
       "</g>\r\n",
       "<!-- 19 -->\r\n",
       "<g id=\"node15\" class=\"node\"><title>19</title>\r\n",
       "<path fill=\"#57ace9\" stroke=\"black\" d=\"M359.5,-353C359.5,-353 261.5,-353 261.5,-353 255.5,-353 249.5,-347 249.5,-341 249.5,-341 249.5,-301 249.5,-301 249.5,-295 255.5,-289 261.5,-289 261.5,-289 359.5,-289 359.5,-289 365.5,-289 371.5,-295 371.5,-301 371.5,-301 371.5,-341 371.5,-341 371.5,-347 365.5,-353 359.5,-353\"/>\r\n",
       "<text text-anchor=\"start\" x=\"280.5\" y=\"-338.8\" font-family=\"Helvetica,sans-Serif\" font-size=\"14.00\">X</text>\r\n",
       "<text text-anchor=\"start\" x=\"290.5\" y=\"-338.8\" font-family=\"Helvetica,sans-Serif\" baseline-shift=\"sub\" font-size=\"14.00\">10</text>\r\n",
       "<text text-anchor=\"start\" x=\"304.5\" y=\"-338.8\" font-family=\"Helvetica,sans-Serif\" font-size=\"14.00\"> ≤ 0.5</text>\r\n",
       "<text text-anchor=\"start\" x=\"260.5\" y=\"-324.8\" font-family=\"Helvetica,sans-Serif\" font-size=\"14.00\">entropy = 0.559</text>\r\n",
       "<text text-anchor=\"start\" x=\"263\" y=\"-310.8\" font-family=\"Helvetica,sans-Serif\" font-size=\"14.00\">samples = 153</text>\r\n",
       "<text text-anchor=\"start\" x=\"257.5\" y=\"-296.8\" font-family=\"Helvetica,sans-Serif\" font-size=\"14.00\">value = [20, 133]</text>\r\n",
       "</g>\r\n",
       "<!-- 17&#45;&gt;19 -->\r\n",
       "<g id=\"edge14\" class=\"edge\"><title>17&#45;&gt;19</title>\r\n",
       "<path fill=\"none\" stroke=\"black\" d=\"M311.184,-388.992C311.101,-380.859 311.01,-371.959 310.922,-363.378\"/>\r\n",
       "<polygon fill=\"black\" stroke=\"black\" points=\"314.42,-363.106 310.818,-353.142 307.42,-363.178 314.42,-363.106\"/>\r\n",
       "</g>\r\n",
       "<!-- 20 -->\r\n",
       "<g id=\"node26\" class=\"node\"><title>20</title>\r\n",
       "<path fill=\"#e78b48\" stroke=\"black\" d=\"M493.5,-347.5C493.5,-347.5 401.5,-347.5 401.5,-347.5 395.5,-347.5 389.5,-341.5 389.5,-335.5 389.5,-335.5 389.5,-306.5 389.5,-306.5 389.5,-300.5 395.5,-294.5 401.5,-294.5 401.5,-294.5 493.5,-294.5 493.5,-294.5 499.5,-294.5 505.5,-300.5 505.5,-306.5 505.5,-306.5 505.5,-335.5 505.5,-335.5 505.5,-341.5 499.5,-347.5 493.5,-347.5\"/>\r\n",
       "<text text-anchor=\"start\" x=\"397.5\" y=\"-332.3\" font-family=\"Helvetica,sans-Serif\" font-size=\"14.00\">entropy = 0.371</text>\r\n",
       "<text text-anchor=\"start\" x=\"404\" y=\"-317.3\" font-family=\"Helvetica,sans-Serif\" font-size=\"14.00\">samples = 14</text>\r\n",
       "<text text-anchor=\"start\" x=\"403\" y=\"-302.3\" font-family=\"Helvetica,sans-Serif\" font-size=\"14.00\">value = [13, 1]</text>\r\n",
       "</g>\r\n",
       "<!-- 17&#45;&gt;20 -->\r\n",
       "<g id=\"edge25\" class=\"edge\"><title>17&#45;&gt;20</title>\r\n",
       "<path fill=\"none\" stroke=\"black\" d=\"M354.531,-388.992C370.158,-377.731 387.829,-364.998 403.535,-353.68\"/>\r\n",
       "<polygon fill=\"black\" stroke=\"black\" points=\"405.967,-356.242 412.034,-347.556 401.875,-350.563 405.967,-356.242\"/>\r\n",
       "</g>\r\n",
       "<!-- 21 -->\r\n",
       "<g id=\"node16\" class=\"node\"><title>21</title>\r\n",
       "<path fill=\"#45a3e7\" stroke=\"black\" d=\"M289.5,-253C289.5,-253 197.5,-253 197.5,-253 191.5,-253 185.5,-247 185.5,-241 185.5,-241 185.5,-201 185.5,-201 185.5,-195 191.5,-189 197.5,-189 197.5,-189 289.5,-189 289.5,-189 295.5,-189 301.5,-195 301.5,-201 301.5,-201 301.5,-241 301.5,-241 301.5,-247 295.5,-253 289.5,-253\"/>\r\n",
       "<text text-anchor=\"start\" x=\"217\" y=\"-238.8\" font-family=\"Helvetica,sans-Serif\" font-size=\"14.00\">X</text>\r\n",
       "<text text-anchor=\"start\" x=\"227\" y=\"-238.8\" font-family=\"Helvetica,sans-Serif\" baseline-shift=\"sub\" font-size=\"14.00\">9</text>\r\n",
       "<text text-anchor=\"start\" x=\"234\" y=\"-238.8\" font-family=\"Helvetica,sans-Serif\" font-size=\"14.00\"> ≤ 0.5</text>\r\n",
       "<text text-anchor=\"start\" x=\"193.5\" y=\"-224.8\" font-family=\"Helvetica,sans-Serif\" font-size=\"14.00\">entropy = 0.319</text>\r\n",
       "<text text-anchor=\"start\" x=\"196\" y=\"-210.8\" font-family=\"Helvetica,sans-Serif\" font-size=\"14.00\">samples = 138</text>\r\n",
       "<text text-anchor=\"start\" x=\"195\" y=\"-196.8\" font-family=\"Helvetica,sans-Serif\" font-size=\"14.00\">value = [8, 130]</text>\r\n",
       "</g>\r\n",
       "<!-- 19&#45;&gt;21 -->\r\n",
       "<g id=\"edge15\" class=\"edge\"><title>19&#45;&gt;21</title>\r\n",
       "<path fill=\"none\" stroke=\"black\" d=\"M289.301,-288.992C283.313,-280.234 276.716,-270.585 270.439,-261.404\"/>\r\n",
       "<polygon fill=\"black\" stroke=\"black\" points=\"273.324,-259.422 264.791,-253.142 267.546,-263.373 273.324,-259.422\"/>\r\n",
       "</g>\r\n",
       "<!-- 22 -->\r\n",
       "<g id=\"node21\" class=\"node\"><title>22</title>\r\n",
       "<path fill=\"#eca06a\" stroke=\"black\" d=\"M423.5,-253C423.5,-253 331.5,-253 331.5,-253 325.5,-253 319.5,-247 319.5,-241 319.5,-241 319.5,-201 319.5,-201 319.5,-195 325.5,-189 331.5,-189 331.5,-189 423.5,-189 423.5,-189 429.5,-189 435.5,-195 435.5,-201 435.5,-201 435.5,-241 435.5,-241 435.5,-247 429.5,-253 423.5,-253\"/>\r\n",
       "<text text-anchor=\"start\" x=\"338.5\" y=\"-238.8\" font-family=\"Helvetica,sans-Serif\" font-size=\"14.00\">X</text>\r\n",
       "<text text-anchor=\"start\" x=\"348.5\" y=\"-238.8\" font-family=\"Helvetica,sans-Serif\" baseline-shift=\"sub\" font-size=\"14.00\">1</text>\r\n",
       "<text text-anchor=\"start\" x=\"355.5\" y=\"-238.8\" font-family=\"Helvetica,sans-Serif\" font-size=\"14.00\"> ≤ 8047.5</text>\r\n",
       "<text text-anchor=\"start\" x=\"327.5\" y=\"-224.8\" font-family=\"Helvetica,sans-Serif\" font-size=\"14.00\">entropy = 0.722</text>\r\n",
       "<text text-anchor=\"start\" x=\"334\" y=\"-210.8\" font-family=\"Helvetica,sans-Serif\" font-size=\"14.00\">samples = 15</text>\r\n",
       "<text text-anchor=\"start\" x=\"333\" y=\"-196.8\" font-family=\"Helvetica,sans-Serif\" font-size=\"14.00\">value = [12, 3]</text>\r\n",
       "</g>\r\n",
       "<!-- 19&#45;&gt;22 -->\r\n",
       "<g id=\"edge20\" class=\"edge\"><title>19&#45;&gt;22</title>\r\n",
       "<path fill=\"none\" stroke=\"black\" d=\"M331.699,-288.992C337.687,-280.234 344.284,-270.585 350.561,-261.404\"/>\r\n",
       "<polygon fill=\"black\" stroke=\"black\" points=\"353.454,-263.373 356.209,-253.142 347.676,-259.422 353.454,-263.373\"/>\r\n",
       "</g>\r\n",
       "<!-- 23 -->\r\n",
       "<g id=\"node17\" class=\"node\"><title>23</title>\r\n",
       "<path fill=\"#3b9ee5\" stroke=\"black\" d=\"M155.5,-153C155.5,-153 63.5,-153 63.5,-153 57.5,-153 51.5,-147 51.5,-141 51.5,-141 51.5,-101 51.5,-101 51.5,-95 57.5,-89 63.5,-89 63.5,-89 155.5,-89 155.5,-89 161.5,-89 167.5,-95 167.5,-101 167.5,-101 167.5,-141 167.5,-141 167.5,-147 161.5,-153 155.5,-153\"/>\r\n",
       "<text text-anchor=\"start\" x=\"79.5\" y=\"-138.8\" font-family=\"Helvetica,sans-Serif\" font-size=\"14.00\">X</text>\r\n",
       "<text text-anchor=\"start\" x=\"89.5\" y=\"-138.8\" font-family=\"Helvetica,sans-Serif\" baseline-shift=\"sub\" font-size=\"14.00\">12</text>\r\n",
       "<text text-anchor=\"start\" x=\"103.5\" y=\"-138.8\" font-family=\"Helvetica,sans-Serif\" font-size=\"14.00\"> ≤ 0.5</text>\r\n",
       "<text text-anchor=\"start\" x=\"59.5\" y=\"-124.8\" font-family=\"Helvetica,sans-Serif\" font-size=\"14.00\">entropy = 0.065</text>\r\n",
       "<text text-anchor=\"start\" x=\"62\" y=\"-110.8\" font-family=\"Helvetica,sans-Serif\" font-size=\"14.00\">samples = 130</text>\r\n",
       "<text text-anchor=\"start\" x=\"61\" y=\"-96.8\" font-family=\"Helvetica,sans-Serif\" font-size=\"14.00\">value = [1, 129]</text>\r\n",
       "</g>\r\n",
       "<!-- 21&#45;&gt;23 -->\r\n",
       "<g id=\"edge16\" class=\"edge\"><title>21&#45;&gt;23</title>\r\n",
       "<path fill=\"none\" stroke=\"black\" d=\"M201.102,-188.992C188.148,-179.519 173.77,-169.004 160.318,-159.165\"/>\r\n",
       "<polygon fill=\"black\" stroke=\"black\" points=\"162.22,-156.221 152.083,-153.142 158.088,-161.871 162.22,-156.221\"/>\r\n",
       "</g>\r\n",
       "<!-- 24 -->\r\n",
       "<g id=\"node20\" class=\"node\"><title>24</title>\r\n",
       "<path fill=\"#e99355\" stroke=\"black\" d=\"M289.5,-147.5C289.5,-147.5 197.5,-147.5 197.5,-147.5 191.5,-147.5 185.5,-141.5 185.5,-135.5 185.5,-135.5 185.5,-106.5 185.5,-106.5 185.5,-100.5 191.5,-94.5 197.5,-94.5 197.5,-94.5 289.5,-94.5 289.5,-94.5 295.5,-94.5 301.5,-100.5 301.5,-106.5 301.5,-106.5 301.5,-135.5 301.5,-135.5 301.5,-141.5 295.5,-147.5 289.5,-147.5\"/>\r\n",
       "<text text-anchor=\"start\" x=\"193.5\" y=\"-132.3\" font-family=\"Helvetica,sans-Serif\" font-size=\"14.00\">entropy = 0.544</text>\r\n",
       "<text text-anchor=\"start\" x=\"204\" y=\"-117.3\" font-family=\"Helvetica,sans-Serif\" font-size=\"14.00\">samples = 8</text>\r\n",
       "<text text-anchor=\"start\" x=\"203\" y=\"-102.3\" font-family=\"Helvetica,sans-Serif\" font-size=\"14.00\">value = [7, 1]</text>\r\n",
       "</g>\r\n",
       "<!-- 21&#45;&gt;24 -->\r\n",
       "<g id=\"edge19\" class=\"edge\"><title>21&#45;&gt;24</title>\r\n",
       "<path fill=\"none\" stroke=\"black\" d=\"M243.5,-188.992C243.5,-179.087 243.5,-168.042 243.5,-157.824\"/>\r\n",
       "<polygon fill=\"black\" stroke=\"black\" points=\"247,-157.556 243.5,-147.556 240,-157.556 247,-157.556\"/>\r\n",
       "</g>\r\n",
       "<!-- 53 -->\r\n",
       "<g id=\"node18\" class=\"node\"><title>53</title>\r\n",
       "<path fill=\"#399de5\" stroke=\"black\" d=\"M101,-53C101,-53 12,-53 12,-53 6,-53 0,-47 0,-41 0,-41 0,-12 0,-12 0,-6 6,-0 12,-0 12,-0 101,-0 101,-0 107,-0 113,-6 113,-12 113,-12 113,-41 113,-41 113,-47 107,-53 101,-53\"/>\r\n",
       "<text text-anchor=\"start\" x=\"14.5\" y=\"-37.8\" font-family=\"Helvetica,sans-Serif\" font-size=\"14.00\">entropy = 0.0</text>\r\n",
       "<text text-anchor=\"start\" x=\"9\" y=\"-22.8\" font-family=\"Helvetica,sans-Serif\" font-size=\"14.00\">samples = 124</text>\r\n",
       "<text text-anchor=\"start\" x=\"8\" y=\"-7.8\" font-family=\"Helvetica,sans-Serif\" font-size=\"14.00\">value = [0, 124]</text>\r\n",
       "</g>\r\n",
       "<!-- 23&#45;&gt;53 -->\r\n",
       "<g id=\"edge17\" class=\"edge\"><title>23&#45;&gt;53</title>\r\n",
       "<path fill=\"none\" stroke=\"black\" d=\"M91.7043,-88.9415C86.7494,-80.2938 81.3378,-70.849 76.2766,-62.0157\"/>\r\n",
       "<polygon fill=\"black\" stroke=\"black\" points=\"79.1712,-60.0275 71.1629,-53.0908 73.0976,-63.5075 79.1712,-60.0275\"/>\r\n",
       "</g>\r\n",
       "<!-- 54 -->\r\n",
       "<g id=\"node19\" class=\"node\"><title>54</title>\r\n",
       "<path fill=\"#61b1ea\" stroke=\"black\" d=\"M227.5,-53C227.5,-53 143.5,-53 143.5,-53 137.5,-53 131.5,-47 131.5,-41 131.5,-41 131.5,-12 131.5,-12 131.5,-6 137.5,-0 143.5,-0 143.5,-0 227.5,-0 227.5,-0 233.5,-0 239.5,-6 239.5,-12 239.5,-12 239.5,-41 239.5,-41 239.5,-47 233.5,-53 227.5,-53\"/>\r\n",
       "<text text-anchor=\"start\" x=\"139.5\" y=\"-37.8\" font-family=\"Helvetica,sans-Serif\" font-size=\"14.00\">entropy = 0.65</text>\r\n",
       "<text text-anchor=\"start\" x=\"146\" y=\"-22.8\" font-family=\"Helvetica,sans-Serif\" font-size=\"14.00\">samples = 6</text>\r\n",
       "<text text-anchor=\"start\" x=\"145\" y=\"-7.8\" font-family=\"Helvetica,sans-Serif\" font-size=\"14.00\">value = [1, 5]</text>\r\n",
       "</g>\r\n",
       "<!-- 23&#45;&gt;54 -->\r\n",
       "<g id=\"edge18\" class=\"edge\"><title>23&#45;&gt;54</title>\r\n",
       "<path fill=\"none\" stroke=\"black\" d=\"M135.018,-88.9415C142.423,-79.9297 150.538,-70.0523 158.055,-60.9033\"/>\r\n",
       "<polygon fill=\"black\" stroke=\"black\" points=\"160.83,-63.0393 164.474,-53.0908 155.421,-58.5955 160.83,-63.0393\"/>\r\n",
       "</g>\r\n",
       "<!-- 49 -->\r\n",
       "<g id=\"node22\" class=\"node\"><title>49</title>\r\n",
       "<path fill=\"#e78c49\" stroke=\"black\" d=\"M423.5,-153C423.5,-153 331.5,-153 331.5,-153 325.5,-153 319.5,-147 319.5,-141 319.5,-141 319.5,-101 319.5,-101 319.5,-95 325.5,-89 331.5,-89 331.5,-89 423.5,-89 423.5,-89 429.5,-89 435.5,-95 435.5,-101 435.5,-101 435.5,-141 435.5,-141 435.5,-147 429.5,-153 423.5,-153\"/>\r\n",
       "<text text-anchor=\"start\" x=\"347.5\" y=\"-138.8\" font-family=\"Helvetica,sans-Serif\" font-size=\"14.00\">X</text>\r\n",
       "<text text-anchor=\"start\" x=\"357.5\" y=\"-138.8\" font-family=\"Helvetica,sans-Serif\" baseline-shift=\"sub\" font-size=\"14.00\">45</text>\r\n",
       "<text text-anchor=\"start\" x=\"371.5\" y=\"-138.8\" font-family=\"Helvetica,sans-Serif\" font-size=\"14.00\"> ≤ 0.5</text>\r\n",
       "<text text-anchor=\"start\" x=\"327.5\" y=\"-124.8\" font-family=\"Helvetica,sans-Serif\" font-size=\"14.00\">entropy = 0.391</text>\r\n",
       "<text text-anchor=\"start\" x=\"334\" y=\"-110.8\" font-family=\"Helvetica,sans-Serif\" font-size=\"14.00\">samples = 13</text>\r\n",
       "<text text-anchor=\"start\" x=\"333\" y=\"-96.8\" font-family=\"Helvetica,sans-Serif\" font-size=\"14.00\">value = [12, 1]</text>\r\n",
       "</g>\r\n",
       "<!-- 22&#45;&gt;49 -->\r\n",
       "<g id=\"edge21\" class=\"edge\"><title>22&#45;&gt;49</title>\r\n",
       "<path fill=\"none\" stroke=\"black\" d=\"M377.5,-188.992C377.5,-180.859 377.5,-171.959 377.5,-163.378\"/>\r\n",
       "<polygon fill=\"black\" stroke=\"black\" points=\"381,-163.142 377.5,-153.142 374,-163.142 381,-163.142\"/>\r\n",
       "</g>\r\n",
       "<!-- 50 -->\r\n",
       "<g id=\"node25\" class=\"node\"><title>50</title>\r\n",
       "<path fill=\"#399de5\" stroke=\"black\" d=\"M541.5,-147.5C541.5,-147.5 465.5,-147.5 465.5,-147.5 459.5,-147.5 453.5,-141.5 453.5,-135.5 453.5,-135.5 453.5,-106.5 453.5,-106.5 453.5,-100.5 459.5,-94.5 465.5,-94.5 465.5,-94.5 541.5,-94.5 541.5,-94.5 547.5,-94.5 553.5,-100.5 553.5,-106.5 553.5,-106.5 553.5,-135.5 553.5,-135.5 553.5,-141.5 547.5,-147.5 541.5,-147.5\"/>\r\n",
       "<text text-anchor=\"start\" x=\"461.5\" y=\"-132.3\" font-family=\"Helvetica,sans-Serif\" font-size=\"14.00\">entropy = 0.0</text>\r\n",
       "<text text-anchor=\"start\" x=\"464\" y=\"-117.3\" font-family=\"Helvetica,sans-Serif\" font-size=\"14.00\">samples = 2</text>\r\n",
       "<text text-anchor=\"start\" x=\"463\" y=\"-102.3\" font-family=\"Helvetica,sans-Serif\" font-size=\"14.00\">value = [0, 2]</text>\r\n",
       "</g>\r\n",
       "<!-- 22&#45;&gt;50 -->\r\n",
       "<g id=\"edge24\" class=\"edge\"><title>22&#45;&gt;50</title>\r\n",
       "<path fill=\"none\" stroke=\"black\" d=\"M417.367,-188.992C431.711,-177.836 447.913,-165.234 462.363,-153.995\"/>\r\n",
       "<polygon fill=\"black\" stroke=\"black\" points=\"464.897,-156.459 470.642,-147.556 460.599,-150.933 464.897,-156.459\"/>\r\n",
       "</g>\r\n",
       "<!-- 51 -->\r\n",
       "<g id=\"node23\" class=\"node\"><title>51</title>\r\n",
       "<path fill=\"#e58139\" stroke=\"black\" d=\"M384,-53C384,-53 303,-53 303,-53 297,-53 291,-47 291,-41 291,-41 291,-12 291,-12 291,-6 297,-0 303,-0 303,-0 384,-0 384,-0 390,-0 396,-6 396,-12 396,-12 396,-41 396,-41 396,-47 390,-53 384,-53\"/>\r\n",
       "<text text-anchor=\"start\" x=\"301.5\" y=\"-37.8\" font-family=\"Helvetica,sans-Serif\" font-size=\"14.00\">entropy = 0.0</text>\r\n",
       "<text text-anchor=\"start\" x=\"300\" y=\"-22.8\" font-family=\"Helvetica,sans-Serif\" font-size=\"14.00\">samples = 12</text>\r\n",
       "<text text-anchor=\"start\" x=\"299\" y=\"-7.8\" font-family=\"Helvetica,sans-Serif\" font-size=\"14.00\">value = [12, 0]</text>\r\n",
       "</g>\r\n",
       "<!-- 49&#45;&gt;51 -->\r\n",
       "<g id=\"edge22\" class=\"edge\"><title>49&#45;&gt;51</title>\r\n",
       "<path fill=\"none\" stroke=\"black\" d=\"M366.084,-88.9415C362.972,-80.4759 359.58,-71.2463 356.392,-62.5744\"/>\r\n",
       "<polygon fill=\"black\" stroke=\"black\" points=\"359.642,-61.2693 352.906,-53.0908 353.071,-63.6844 359.642,-61.2693\"/>\r\n",
       "</g>\r\n",
       "<!-- 52 -->\r\n",
       "<g id=\"node24\" class=\"node\"><title>52</title>\r\n",
       "<path fill=\"#399de5\" stroke=\"black\" d=\"M502.5,-53C502.5,-53 426.5,-53 426.5,-53 420.5,-53 414.5,-47 414.5,-41 414.5,-41 414.5,-12 414.5,-12 414.5,-6 420.5,-0 426.5,-0 426.5,-0 502.5,-0 502.5,-0 508.5,-0 514.5,-6 514.5,-12 514.5,-12 514.5,-41 514.5,-41 514.5,-47 508.5,-53 502.5,-53\"/>\r\n",
       "<text text-anchor=\"start\" x=\"422.5\" y=\"-37.8\" font-family=\"Helvetica,sans-Serif\" font-size=\"14.00\">entropy = 0.0</text>\r\n",
       "<text text-anchor=\"start\" x=\"425\" y=\"-22.8\" font-family=\"Helvetica,sans-Serif\" font-size=\"14.00\">samples = 1</text>\r\n",
       "<text text-anchor=\"start\" x=\"424\" y=\"-7.8\" font-family=\"Helvetica,sans-Serif\" font-size=\"14.00\">value = [0, 1]</text>\r\n",
       "</g>\r\n",
       "<!-- 49&#45;&gt;52 -->\r\n",
       "<g id=\"edge23\" class=\"edge\"><title>49&#45;&gt;52</title>\r\n",
       "<path fill=\"none\" stroke=\"black\" d=\"M406.712,-88.9415C415.273,-79.8387 424.666,-69.8526 433.343,-60.6262\"/>\r\n",
       "<polygon fill=\"black\" stroke=\"black\" points=\"436.129,-62.7731 440.431,-53.0908 431.03,-57.9772 436.129,-62.7731\"/>\r\n",
       "</g>\r\n",
       "<!-- 37 -->\r\n",
       "<g id=\"node33\" class=\"node\"><title>37</title>\r\n",
       "<path fill=\"#e5823b\" stroke=\"black\" d=\"M855.5,-953C855.5,-953 763.5,-953 763.5,-953 757.5,-953 751.5,-947 751.5,-941 751.5,-941 751.5,-901 751.5,-901 751.5,-895 757.5,-889 763.5,-889 763.5,-889 855.5,-889 855.5,-889 861.5,-889 867.5,-895 867.5,-901 867.5,-901 867.5,-941 867.5,-941 867.5,-947 861.5,-953 855.5,-953\"/>\r\n",
       "<text text-anchor=\"start\" x=\"783\" y=\"-938.8\" font-family=\"Helvetica,sans-Serif\" font-size=\"14.00\">X</text>\r\n",
       "<text text-anchor=\"start\" x=\"793\" y=\"-938.8\" font-family=\"Helvetica,sans-Serif\" baseline-shift=\"sub\" font-size=\"14.00\">5</text>\r\n",
       "<text text-anchor=\"start\" x=\"800\" y=\"-938.8\" font-family=\"Helvetica,sans-Serif\" font-size=\"14.00\"> ≤ 0.5</text>\r\n",
       "<text text-anchor=\"start\" x=\"759.5\" y=\"-924.8\" font-family=\"Helvetica,sans-Serif\" font-size=\"14.00\">entropy = 0.091</text>\r\n",
       "<text text-anchor=\"start\" x=\"766\" y=\"-910.8\" font-family=\"Helvetica,sans-Serif\" font-size=\"14.00\">samples = 87</text>\r\n",
       "<text text-anchor=\"start\" x=\"765\" y=\"-896.8\" font-family=\"Helvetica,sans-Serif\" font-size=\"14.00\">value = [86, 1]</text>\r\n",
       "</g>\r\n",
       "<!-- 4&#45;&gt;37 -->\r\n",
       "<g id=\"edge32\" class=\"edge\"><title>4&#45;&gt;37</title>\r\n",
       "<path fill=\"none\" stroke=\"black\" d=\"M853.934,-988.992C848.184,-980.323 841.855,-970.782 835.822,-961.685\"/>\r\n",
       "<polygon fill=\"black\" stroke=\"black\" points=\"838.6,-959.541 830.156,-953.142 832.766,-963.411 838.6,-959.541\"/>\r\n",
       "</g>\r\n",
       "<!-- 38 -->\r\n",
       "<g id=\"node36\" class=\"node\"><title>38</title>\r\n",
       "<path fill=\"#f1b991\" stroke=\"black\" d=\"M981.5,-953C981.5,-953 897.5,-953 897.5,-953 891.5,-953 885.5,-947 885.5,-941 885.5,-941 885.5,-901 885.5,-901 885.5,-895 891.5,-889 897.5,-889 897.5,-889 981.5,-889 981.5,-889 987.5,-889 993.5,-895 993.5,-901 993.5,-901 993.5,-941 993.5,-941 993.5,-947 987.5,-953 981.5,-953\"/>\r\n",
       "<text text-anchor=\"start\" x=\"900.5\" y=\"-938.8\" font-family=\"Helvetica,sans-Serif\" font-size=\"14.00\">X</text>\r\n",
       "<text text-anchor=\"start\" x=\"910.5\" y=\"-938.8\" font-family=\"Helvetica,sans-Serif\" baseline-shift=\"sub\" font-size=\"14.00\">3</text>\r\n",
       "<text text-anchor=\"start\" x=\"917.5\" y=\"-938.8\" font-family=\"Helvetica,sans-Serif\" font-size=\"14.00\"> ≤ 5500.0</text>\r\n",
       "<text text-anchor=\"start\" x=\"893.5\" y=\"-924.8\" font-family=\"Helvetica,sans-Serif\" font-size=\"14.00\">entropy = 0.89</text>\r\n",
       "<text text-anchor=\"start\" x=\"896\" y=\"-910.8\" font-family=\"Helvetica,sans-Serif\" font-size=\"14.00\">samples = 13</text>\r\n",
       "<text text-anchor=\"start\" x=\"899\" y=\"-896.8\" font-family=\"Helvetica,sans-Serif\" font-size=\"14.00\">value = [9, 4]</text>\r\n",
       "</g>\r\n",
       "<!-- 4&#45;&gt;38 -->\r\n",
       "<g id=\"edge35\" class=\"edge\"><title>4&#45;&gt;38</title>\r\n",
       "<path fill=\"none\" stroke=\"black\" d=\"M895.066,-988.992C900.816,-980.323 907.145,-970.782 913.178,-961.685\"/>\r\n",
       "<polygon fill=\"black\" stroke=\"black\" points=\"916.234,-963.411 918.844,-953.142 910.4,-959.541 916.234,-963.411\"/>\r\n",
       "</g>\r\n",
       "<!-- 47 -->\r\n",
       "<g id=\"node34\" class=\"node\"><title>47</title>\r\n",
       "<path fill=\"#e58139\" stroke=\"black\" d=\"M735,-847.5C735,-847.5 654,-847.5 654,-847.5 648,-847.5 642,-841.5 642,-835.5 642,-835.5 642,-806.5 642,-806.5 642,-800.5 648,-794.5 654,-794.5 654,-794.5 735,-794.5 735,-794.5 741,-794.5 747,-800.5 747,-806.5 747,-806.5 747,-835.5 747,-835.5 747,-841.5 741,-847.5 735,-847.5\"/>\r\n",
       "<text text-anchor=\"start\" x=\"652.5\" y=\"-832.3\" font-family=\"Helvetica,sans-Serif\" font-size=\"14.00\">entropy = 0.0</text>\r\n",
       "<text text-anchor=\"start\" x=\"651\" y=\"-817.3\" font-family=\"Helvetica,sans-Serif\" font-size=\"14.00\">samples = 85</text>\r\n",
       "<text text-anchor=\"start\" x=\"650\" y=\"-802.3\" font-family=\"Helvetica,sans-Serif\" font-size=\"14.00\">value = [85, 0]</text>\r\n",
       "</g>\r\n",
       "<!-- 37&#45;&gt;47 -->\r\n",
       "<g id=\"edge33\" class=\"edge\"><title>37&#45;&gt;47</title>\r\n",
       "<path fill=\"none\" stroke=\"black\" d=\"M773.113,-888.992C760.144,-877.94 745.51,-865.47 732.415,-854.311\"/>\r\n",
       "<polygon fill=\"black\" stroke=\"black\" points=\"734.371,-851.379 724.49,-847.556 729.831,-856.706 734.371,-851.379\"/>\r\n",
       "</g>\r\n",
       "<!-- 48 -->\r\n",
       "<g id=\"node35\" class=\"node\"><title>48</title>\r\n",
       "<path fill=\"#ffffff\" stroke=\"black\" d=\"M853.5,-847.5C853.5,-847.5 777.5,-847.5 777.5,-847.5 771.5,-847.5 765.5,-841.5 765.5,-835.5 765.5,-835.5 765.5,-806.5 765.5,-806.5 765.5,-800.5 771.5,-794.5 777.5,-794.5 777.5,-794.5 853.5,-794.5 853.5,-794.5 859.5,-794.5 865.5,-800.5 865.5,-806.5 865.5,-806.5 865.5,-835.5 865.5,-835.5 865.5,-841.5 859.5,-847.5 853.5,-847.5\"/>\r\n",
       "<text text-anchor=\"start\" x=\"773.5\" y=\"-832.3\" font-family=\"Helvetica,sans-Serif\" font-size=\"14.00\">entropy = 1.0</text>\r\n",
       "<text text-anchor=\"start\" x=\"776\" y=\"-817.3\" font-family=\"Helvetica,sans-Serif\" font-size=\"14.00\">samples = 2</text>\r\n",
       "<text text-anchor=\"start\" x=\"775\" y=\"-802.3\" font-family=\"Helvetica,sans-Serif\" font-size=\"14.00\">value = [1, 1]</text>\r\n",
       "</g>\r\n",
       "<!-- 37&#45;&gt;48 -->\r\n",
       "<g id=\"edge34\" class=\"edge\"><title>37&#45;&gt;48</title>\r\n",
       "<path fill=\"none\" stroke=\"black\" d=\"M811.398,-888.992C812.005,-879.087 812.681,-868.042 813.307,-857.824\"/>\r\n",
       "<polygon fill=\"black\" stroke=\"black\" points=\"816.818,-857.752 813.935,-847.556 809.831,-857.324 816.818,-857.752\"/>\r\n",
       "</g>\r\n",
       "<!-- 39 -->\r\n",
       "<g id=\"node37\" class=\"node\"><title>39</title>\r\n",
       "<path fill=\"#399de5\" stroke=\"black\" d=\"M971.5,-847.5C971.5,-847.5 895.5,-847.5 895.5,-847.5 889.5,-847.5 883.5,-841.5 883.5,-835.5 883.5,-835.5 883.5,-806.5 883.5,-806.5 883.5,-800.5 889.5,-794.5 895.5,-794.5 895.5,-794.5 971.5,-794.5 971.5,-794.5 977.5,-794.5 983.5,-800.5 983.5,-806.5 983.5,-806.5 983.5,-835.5 983.5,-835.5 983.5,-841.5 977.5,-847.5 971.5,-847.5\"/>\r\n",
       "<text text-anchor=\"start\" x=\"891.5\" y=\"-832.3\" font-family=\"Helvetica,sans-Serif\" font-size=\"14.00\">entropy = 0.0</text>\r\n",
       "<text text-anchor=\"start\" x=\"894\" y=\"-817.3\" font-family=\"Helvetica,sans-Serif\" font-size=\"14.00\">samples = 4</text>\r\n",
       "<text text-anchor=\"start\" x=\"893\" y=\"-802.3\" font-family=\"Helvetica,sans-Serif\" font-size=\"14.00\">value = [0, 4]</text>\r\n",
       "</g>\r\n",
       "<!-- 38&#45;&gt;39 -->\r\n",
       "<g id=\"edge36\" class=\"edge\"><title>38&#45;&gt;39</title>\r\n",
       "<path fill=\"none\" stroke=\"black\" d=\"M937.602,-888.992C936.995,-879.087 936.319,-868.042 935.693,-857.824\"/>\r\n",
       "<polygon fill=\"black\" stroke=\"black\" points=\"939.169,-857.324 935.065,-847.556 932.182,-857.752 939.169,-857.324\"/>\r\n",
       "</g>\r\n",
       "<!-- 40 -->\r\n",
       "<g id=\"node38\" class=\"node\"><title>40</title>\r\n",
       "<path fill=\"#e58139\" stroke=\"black\" d=\"M1089.5,-847.5C1089.5,-847.5 1013.5,-847.5 1013.5,-847.5 1007.5,-847.5 1001.5,-841.5 1001.5,-835.5 1001.5,-835.5 1001.5,-806.5 1001.5,-806.5 1001.5,-800.5 1007.5,-794.5 1013.5,-794.5 1013.5,-794.5 1089.5,-794.5 1089.5,-794.5 1095.5,-794.5 1101.5,-800.5 1101.5,-806.5 1101.5,-806.5 1101.5,-835.5 1101.5,-835.5 1101.5,-841.5 1095.5,-847.5 1089.5,-847.5\"/>\r\n",
       "<text text-anchor=\"start\" x=\"1009.5\" y=\"-832.3\" font-family=\"Helvetica,sans-Serif\" font-size=\"14.00\">entropy = 0.0</text>\r\n",
       "<text text-anchor=\"start\" x=\"1012\" y=\"-817.3\" font-family=\"Helvetica,sans-Serif\" font-size=\"14.00\">samples = 9</text>\r\n",
       "<text text-anchor=\"start\" x=\"1011\" y=\"-802.3\" font-family=\"Helvetica,sans-Serif\" font-size=\"14.00\">value = [9, 0]</text>\r\n",
       "</g>\r\n",
       "<!-- 38&#45;&gt;40 -->\r\n",
       "<g id=\"edge37\" class=\"edge\"><title>38&#45;&gt;40</title>\r\n",
       "<path fill=\"none\" stroke=\"black\" d=\"M974.938,-888.992C987.569,-877.94 1001.82,-865.47 1014.57,-854.311\"/>\r\n",
       "<polygon fill=\"black\" stroke=\"black\" points=\"1017.07,-856.776 1022.29,-847.556 1012.46,-851.507 1017.07,-856.776\"/>\r\n",
       "</g>\r\n",
       "<!-- 7 -->\r\n",
       "<g id=\"node40\" class=\"node\"><title>7</title>\r\n",
       "<path fill=\"#e68642\" stroke=\"black\" d=\"M1225.5,-1053C1225.5,-1053 1127.5,-1053 1127.5,-1053 1121.5,-1053 1115.5,-1047 1115.5,-1041 1115.5,-1041 1115.5,-1001 1115.5,-1001 1115.5,-995 1121.5,-989 1127.5,-989 1127.5,-989 1225.5,-989 1225.5,-989 1231.5,-989 1237.5,-995 1237.5,-1001 1237.5,-1001 1237.5,-1041 1237.5,-1041 1237.5,-1047 1231.5,-1053 1225.5,-1053\"/>\r\n",
       "<text text-anchor=\"start\" x=\"1146.5\" y=\"-1038.8\" font-family=\"Helvetica,sans-Serif\" font-size=\"14.00\">X</text>\r\n",
       "<text text-anchor=\"start\" x=\"1156.5\" y=\"-1038.8\" font-family=\"Helvetica,sans-Serif\" baseline-shift=\"sub\" font-size=\"14.00\">30</text>\r\n",
       "<text text-anchor=\"start\" x=\"1170.5\" y=\"-1038.8\" font-family=\"Helvetica,sans-Serif\" font-size=\"14.00\"> ≤ 0.5</text>\r\n",
       "<text text-anchor=\"start\" x=\"1126.5\" y=\"-1024.8\" font-family=\"Helvetica,sans-Serif\" font-size=\"14.00\">entropy = 0.248</text>\r\n",
       "<text text-anchor=\"start\" x=\"1129\" y=\"-1010.8\" font-family=\"Helvetica,sans-Serif\" font-size=\"14.00\">samples = 364</text>\r\n",
       "<text text-anchor=\"start\" x=\"1123.5\" y=\"-996.8\" font-family=\"Helvetica,sans-Serif\" font-size=\"14.00\">value = [349, 15]</text>\r\n",
       "</g>\r\n",
       "<!-- 2&#45;&gt;7 -->\r\n",
       "<g id=\"edge39\" class=\"edge\"><title>2&#45;&gt;7</title>\r\n",
       "<path fill=\"none\" stroke=\"black\" d=\"M1176.5,-1088.99C1176.5,-1080.86 1176.5,-1071.96 1176.5,-1063.38\"/>\r\n",
       "<polygon fill=\"black\" stroke=\"black\" points=\"1180,-1063.14 1176.5,-1053.14 1173,-1063.14 1180,-1063.14\"/>\r\n",
       "</g>\r\n",
       "<!-- 8 -->\r\n",
       "<g id=\"node55\" class=\"node\"><title>8</title>\r\n",
       "<path fill=\"#399de5\" stroke=\"black\" d=\"M1349,-1047.5C1349,-1047.5 1268,-1047.5 1268,-1047.5 1262,-1047.5 1256,-1041.5 1256,-1035.5 1256,-1035.5 1256,-1006.5 1256,-1006.5 1256,-1000.5 1262,-994.5 1268,-994.5 1268,-994.5 1349,-994.5 1349,-994.5 1355,-994.5 1361,-1000.5 1361,-1006.5 1361,-1006.5 1361,-1035.5 1361,-1035.5 1361,-1041.5 1355,-1047.5 1349,-1047.5\"/>\r\n",
       "<text text-anchor=\"start\" x=\"1266.5\" y=\"-1032.3\" font-family=\"Helvetica,sans-Serif\" font-size=\"14.00\">entropy = 0.0</text>\r\n",
       "<text text-anchor=\"start\" x=\"1265\" y=\"-1017.3\" font-family=\"Helvetica,sans-Serif\" font-size=\"14.00\">samples = 10</text>\r\n",
       "<text text-anchor=\"start\" x=\"1264\" y=\"-1002.3\" font-family=\"Helvetica,sans-Serif\" font-size=\"14.00\">value = [0, 10]</text>\r\n",
       "</g>\r\n",
       "<!-- 2&#45;&gt;8 -->\r\n",
       "<g id=\"edge54\" class=\"edge\"><title>2&#45;&gt;8</title>\r\n",
       "<path fill=\"none\" stroke=\"black\" d=\"M1218.27,-1088.99C1233.43,-1077.73 1250.58,-1065 1265.83,-1053.68\"/>\r\n",
       "<polygon fill=\"black\" stroke=\"black\" points=\"1268.13,-1056.33 1274.08,-1047.56 1263.96,-1050.71 1268.13,-1056.33\"/>\r\n",
       "</g>\r\n",
       "<!-- 27 -->\r\n",
       "<g id=\"node41\" class=\"node\"><title>27</title>\r\n",
       "<path fill=\"#e6853f\" stroke=\"black\" d=\"M1225.5,-953C1225.5,-953 1127.5,-953 1127.5,-953 1121.5,-953 1115.5,-947 1115.5,-941 1115.5,-941 1115.5,-901 1115.5,-901 1115.5,-895 1121.5,-889 1127.5,-889 1127.5,-889 1225.5,-889 1225.5,-889 1231.5,-889 1237.5,-895 1237.5,-901 1237.5,-901 1237.5,-941 1237.5,-941 1237.5,-947 1231.5,-953 1225.5,-953\"/>\r\n",
       "<text text-anchor=\"start\" x=\"1146.5\" y=\"-938.8\" font-family=\"Helvetica,sans-Serif\" font-size=\"14.00\">X</text>\r\n",
       "<text text-anchor=\"start\" x=\"1156.5\" y=\"-938.8\" font-family=\"Helvetica,sans-Serif\" baseline-shift=\"sub\" font-size=\"14.00\">20</text>\r\n",
       "<text text-anchor=\"start\" x=\"1170.5\" y=\"-938.8\" font-family=\"Helvetica,sans-Serif\" font-size=\"14.00\"> ≤ 0.5</text>\r\n",
       "<text text-anchor=\"start\" x=\"1126.5\" y=\"-924.8\" font-family=\"Helvetica,sans-Serif\" font-size=\"14.00\">entropy = 0.197</text>\r\n",
       "<text text-anchor=\"start\" x=\"1129\" y=\"-910.8\" font-family=\"Helvetica,sans-Serif\" font-size=\"14.00\">samples = 360</text>\r\n",
       "<text text-anchor=\"start\" x=\"1123.5\" y=\"-896.8\" font-family=\"Helvetica,sans-Serif\" font-size=\"14.00\">value = [349, 11]</text>\r\n",
       "</g>\r\n",
       "<!-- 7&#45;&gt;27 -->\r\n",
       "<g id=\"edge40\" class=\"edge\"><title>7&#45;&gt;27</title>\r\n",
       "<path fill=\"none\" stroke=\"black\" d=\"M1176.5,-988.992C1176.5,-980.859 1176.5,-971.959 1176.5,-963.378\"/>\r\n",
       "<polygon fill=\"black\" stroke=\"black\" points=\"1180,-963.142 1176.5,-953.142 1173,-963.142 1180,-963.142\"/>\r\n",
       "</g>\r\n",
       "<!-- 28 -->\r\n",
       "<g id=\"node54\" class=\"node\"><title>28</title>\r\n",
       "<path fill=\"#399de5\" stroke=\"black\" d=\"M1343.5,-947.5C1343.5,-947.5 1267.5,-947.5 1267.5,-947.5 1261.5,-947.5 1255.5,-941.5 1255.5,-935.5 1255.5,-935.5 1255.5,-906.5 1255.5,-906.5 1255.5,-900.5 1261.5,-894.5 1267.5,-894.5 1267.5,-894.5 1343.5,-894.5 1343.5,-894.5 1349.5,-894.5 1355.5,-900.5 1355.5,-906.5 1355.5,-906.5 1355.5,-935.5 1355.5,-935.5 1355.5,-941.5 1349.5,-947.5 1343.5,-947.5\"/>\r\n",
       "<text text-anchor=\"start\" x=\"1263.5\" y=\"-932.3\" font-family=\"Helvetica,sans-Serif\" font-size=\"14.00\">entropy = 0.0</text>\r\n",
       "<text text-anchor=\"start\" x=\"1266\" y=\"-917.3\" font-family=\"Helvetica,sans-Serif\" font-size=\"14.00\">samples = 4</text>\r\n",
       "<text text-anchor=\"start\" x=\"1265\" y=\"-902.3\" font-family=\"Helvetica,sans-Serif\" font-size=\"14.00\">value = [0, 4]</text>\r\n",
       "</g>\r\n",
       "<!-- 7&#45;&gt;28 -->\r\n",
       "<g id=\"edge53\" class=\"edge\"><title>7&#45;&gt;28</title>\r\n",
       "<path fill=\"none\" stroke=\"black\" d=\"M1217.32,-988.992C1232.14,-977.731 1248.9,-964.998 1263.8,-953.68\"/>\r\n",
       "<polygon fill=\"black\" stroke=\"black\" points=\"1266.01,-956.393 1271.86,-947.556 1261.78,-950.819 1266.01,-956.393\"/>\r\n",
       "</g>\r\n",
       "<!-- 29 -->\r\n",
       "<g id=\"node42\" class=\"node\"><title>29</title>\r\n",
       "<path fill=\"#e6843d\" stroke=\"black\" d=\"M1221,-853C1221,-853 1132,-853 1132,-853 1126,-853 1120,-847 1120,-841 1120,-841 1120,-801 1120,-801 1120,-795 1126,-789 1132,-789 1132,-789 1221,-789 1221,-789 1227,-789 1233,-795 1233,-801 1233,-801 1233,-841 1233,-841 1233,-847 1227,-853 1221,-853\"/>\r\n",
       "<text text-anchor=\"start\" x=\"1146.5\" y=\"-838.8\" font-family=\"Helvetica,sans-Serif\" font-size=\"14.00\">X</text>\r\n",
       "<text text-anchor=\"start\" x=\"1156.5\" y=\"-838.8\" font-family=\"Helvetica,sans-Serif\" baseline-shift=\"sub\" font-size=\"14.00\">29</text>\r\n",
       "<text text-anchor=\"start\" x=\"1170.5\" y=\"-838.8\" font-family=\"Helvetica,sans-Serif\" font-size=\"14.00\"> ≤ 0.5</text>\r\n",
       "<text text-anchor=\"start\" x=\"1130.5\" y=\"-824.8\" font-family=\"Helvetica,sans-Serif\" font-size=\"14.00\">entropy = 0.14</text>\r\n",
       "<text text-anchor=\"start\" x=\"1129\" y=\"-810.8\" font-family=\"Helvetica,sans-Serif\" font-size=\"14.00\">samples = 356</text>\r\n",
       "<text text-anchor=\"start\" x=\"1128\" y=\"-796.8\" font-family=\"Helvetica,sans-Serif\" font-size=\"14.00\">value = [349, 7]</text>\r\n",
       "</g>\r\n",
       "<!-- 27&#45;&gt;29 -->\r\n",
       "<g id=\"edge41\" class=\"edge\"><title>27&#45;&gt;29</title>\r\n",
       "<path fill=\"none\" stroke=\"black\" d=\"M1176.5,-888.992C1176.5,-880.859 1176.5,-871.959 1176.5,-863.378\"/>\r\n",
       "<polygon fill=\"black\" stroke=\"black\" points=\"1180,-863.142 1176.5,-853.142 1173,-863.142 1180,-863.142\"/>\r\n",
       "</g>\r\n",
       "<!-- 30 -->\r\n",
       "<g id=\"node53\" class=\"node\"><title>30</title>\r\n",
       "<path fill=\"#399de5\" stroke=\"black\" d=\"M1339.5,-847.5C1339.5,-847.5 1263.5,-847.5 1263.5,-847.5 1257.5,-847.5 1251.5,-841.5 1251.5,-835.5 1251.5,-835.5 1251.5,-806.5 1251.5,-806.5 1251.5,-800.5 1257.5,-794.5 1263.5,-794.5 1263.5,-794.5 1339.5,-794.5 1339.5,-794.5 1345.5,-794.5 1351.5,-800.5 1351.5,-806.5 1351.5,-806.5 1351.5,-835.5 1351.5,-835.5 1351.5,-841.5 1345.5,-847.5 1339.5,-847.5\"/>\r\n",
       "<text text-anchor=\"start\" x=\"1259.5\" y=\"-832.3\" font-family=\"Helvetica,sans-Serif\" font-size=\"14.00\">entropy = 0.0</text>\r\n",
       "<text text-anchor=\"start\" x=\"1262\" y=\"-817.3\" font-family=\"Helvetica,sans-Serif\" font-size=\"14.00\">samples = 4</text>\r\n",
       "<text text-anchor=\"start\" x=\"1261\" y=\"-802.3\" font-family=\"Helvetica,sans-Serif\" font-size=\"14.00\">value = [0, 4]</text>\r\n",
       "</g>\r\n",
       "<!-- 27&#45;&gt;30 -->\r\n",
       "<g id=\"edge52\" class=\"edge\"><title>27&#45;&gt;30</title>\r\n",
       "<path fill=\"none\" stroke=\"black\" d=\"M1216.05,-888.992C1230.28,-877.836 1246.35,-865.234 1260.69,-853.995\"/>\r\n",
       "<polygon fill=\"black\" stroke=\"black\" points=\"1263.19,-856.481 1268.9,-847.556 1258.87,-850.972 1263.19,-856.481\"/>\r\n",
       "</g>\r\n",
       "<!-- 33 -->\r\n",
       "<g id=\"node43\" class=\"node\"><title>33</title>\r\n",
       "<path fill=\"#e5833c\" stroke=\"black\" d=\"M1096.5,-753C1096.5,-753 1004.5,-753 1004.5,-753 998.5,-753 992.5,-747 992.5,-741 992.5,-741 992.5,-701 992.5,-701 992.5,-695 998.5,-689 1004.5,-689 1004.5,-689 1096.5,-689 1096.5,-689 1102.5,-689 1108.5,-695 1108.5,-701 1108.5,-701 1108.5,-741 1108.5,-741 1108.5,-747 1102.5,-753 1096.5,-753\"/>\r\n",
       "<text text-anchor=\"start\" x=\"1020.5\" y=\"-738.8\" font-family=\"Helvetica,sans-Serif\" font-size=\"14.00\">X</text>\r\n",
       "<text text-anchor=\"start\" x=\"1030.5\" y=\"-738.8\" font-family=\"Helvetica,sans-Serif\" baseline-shift=\"sub\" font-size=\"14.00\">31</text>\r\n",
       "<text text-anchor=\"start\" x=\"1044.5\" y=\"-738.8\" font-family=\"Helvetica,sans-Serif\" font-size=\"14.00\"> ≤ 0.5</text>\r\n",
       "<text text-anchor=\"start\" x=\"1000.5\" y=\"-724.8\" font-family=\"Helvetica,sans-Serif\" font-size=\"14.00\">entropy = 0.107</text>\r\n",
       "<text text-anchor=\"start\" x=\"1003\" y=\"-710.8\" font-family=\"Helvetica,sans-Serif\" font-size=\"14.00\">samples = 354</text>\r\n",
       "<text text-anchor=\"start\" x=\"1002\" y=\"-696.8\" font-family=\"Helvetica,sans-Serif\" font-size=\"14.00\">value = [349, 5]</text>\r\n",
       "</g>\r\n",
       "<!-- 29&#45;&gt;33 -->\r\n",
       "<g id=\"edge42\" class=\"edge\"><title>29&#45;&gt;33</title>\r\n",
       "<path fill=\"none\" stroke=\"black\" d=\"M1136.63,-788.992C1124.57,-779.608 1111.19,-769.202 1098.64,-759.444\"/>\r\n",
       "<polygon fill=\"black\" stroke=\"black\" points=\"1100.58,-756.519 1090.54,-753.142 1096.29,-762.045 1100.58,-756.519\"/>\r\n",
       "</g>\r\n",
       "<!-- 34 -->\r\n",
       "<g id=\"node52\" class=\"node\"><title>34</title>\r\n",
       "<path fill=\"#399de5\" stroke=\"black\" d=\"M1214.5,-747.5C1214.5,-747.5 1138.5,-747.5 1138.5,-747.5 1132.5,-747.5 1126.5,-741.5 1126.5,-735.5 1126.5,-735.5 1126.5,-706.5 1126.5,-706.5 1126.5,-700.5 1132.5,-694.5 1138.5,-694.5 1138.5,-694.5 1214.5,-694.5 1214.5,-694.5 1220.5,-694.5 1226.5,-700.5 1226.5,-706.5 1226.5,-706.5 1226.5,-735.5 1226.5,-735.5 1226.5,-741.5 1220.5,-747.5 1214.5,-747.5\"/>\r\n",
       "<text text-anchor=\"start\" x=\"1134.5\" y=\"-732.3\" font-family=\"Helvetica,sans-Serif\" font-size=\"14.00\">entropy = 0.0</text>\r\n",
       "<text text-anchor=\"start\" x=\"1137\" y=\"-717.3\" font-family=\"Helvetica,sans-Serif\" font-size=\"14.00\">samples = 2</text>\r\n",
       "<text text-anchor=\"start\" x=\"1136\" y=\"-702.3\" font-family=\"Helvetica,sans-Serif\" font-size=\"14.00\">value = [0, 2]</text>\r\n",
       "</g>\r\n",
       "<!-- 29&#45;&gt;34 -->\r\n",
       "<g id=\"edge51\" class=\"edge\"><title>29&#45;&gt;34</title>\r\n",
       "<path fill=\"none\" stroke=\"black\" d=\"M1176.5,-788.992C1176.5,-779.087 1176.5,-768.042 1176.5,-757.824\"/>\r\n",
       "<polygon fill=\"black\" stroke=\"black\" points=\"1180,-757.556 1176.5,-747.556 1173,-757.556 1180,-757.556\"/>\r\n",
       "</g>\r\n",
       "<!-- 35 -->\r\n",
       "<g id=\"node44\" class=\"node\"><title>35</title>\r\n",
       "<path fill=\"#e5823b\" stroke=\"black\" d=\"M972.5,-653C972.5,-653 880.5,-653 880.5,-653 874.5,-653 868.5,-647 868.5,-641 868.5,-641 868.5,-601 868.5,-601 868.5,-595 874.5,-589 880.5,-589 880.5,-589 972.5,-589 972.5,-589 978.5,-589 984.5,-595 984.5,-601 984.5,-601 984.5,-641 984.5,-641 984.5,-647 978.5,-653 972.5,-653\"/>\r\n",
       "<text text-anchor=\"start\" x=\"896.5\" y=\"-638.8\" font-family=\"Helvetica,sans-Serif\" font-size=\"14.00\">X</text>\r\n",
       "<text text-anchor=\"start\" x=\"906.5\" y=\"-638.8\" font-family=\"Helvetica,sans-Serif\" baseline-shift=\"sub\" font-size=\"14.00\">35</text>\r\n",
       "<text text-anchor=\"start\" x=\"920.5\" y=\"-638.8\" font-family=\"Helvetica,sans-Serif\" font-size=\"14.00\"> ≤ 0.5</text>\r\n",
       "<text text-anchor=\"start\" x=\"876.5\" y=\"-624.8\" font-family=\"Helvetica,sans-Serif\" font-size=\"14.00\">entropy = 0.071</text>\r\n",
       "<text text-anchor=\"start\" x=\"879\" y=\"-610.8\" font-family=\"Helvetica,sans-Serif\" font-size=\"14.00\">samples = 352</text>\r\n",
       "<text text-anchor=\"start\" x=\"878\" y=\"-596.8\" font-family=\"Helvetica,sans-Serif\" font-size=\"14.00\">value = [349, 3]</text>\r\n",
       "</g>\r\n",
       "<!-- 33&#45;&gt;35 -->\r\n",
       "<g id=\"edge43\" class=\"edge\"><title>33&#45;&gt;35</title>\r\n",
       "<path fill=\"none\" stroke=\"black\" d=\"M1011.27,-688.992C999.392,-679.608 986.225,-669.202 973.878,-659.444\"/>\r\n",
       "<polygon fill=\"black\" stroke=\"black\" points=\"975.921,-656.597 965.905,-653.142 971.58,-662.089 975.921,-656.597\"/>\r\n",
       "</g>\r\n",
       "<!-- 36 -->\r\n",
       "<g id=\"node51\" class=\"node\"><title>36</title>\r\n",
       "<path fill=\"#399de5\" stroke=\"black\" d=\"M1090.5,-647.5C1090.5,-647.5 1014.5,-647.5 1014.5,-647.5 1008.5,-647.5 1002.5,-641.5 1002.5,-635.5 1002.5,-635.5 1002.5,-606.5 1002.5,-606.5 1002.5,-600.5 1008.5,-594.5 1014.5,-594.5 1014.5,-594.5 1090.5,-594.5 1090.5,-594.5 1096.5,-594.5 1102.5,-600.5 1102.5,-606.5 1102.5,-606.5 1102.5,-635.5 1102.5,-635.5 1102.5,-641.5 1096.5,-647.5 1090.5,-647.5\"/>\r\n",
       "<text text-anchor=\"start\" x=\"1010.5\" y=\"-632.3\" font-family=\"Helvetica,sans-Serif\" font-size=\"14.00\">entropy = 0.0</text>\r\n",
       "<text text-anchor=\"start\" x=\"1013\" y=\"-617.3\" font-family=\"Helvetica,sans-Serif\" font-size=\"14.00\">samples = 2</text>\r\n",
       "<text text-anchor=\"start\" x=\"1012\" y=\"-602.3\" font-family=\"Helvetica,sans-Serif\" font-size=\"14.00\">value = [0, 2]</text>\r\n",
       "</g>\r\n",
       "<!-- 33&#45;&gt;36 -->\r\n",
       "<g id=\"edge50\" class=\"edge\"><title>33&#45;&gt;36</title>\r\n",
       "<path fill=\"none\" stroke=\"black\" d=\"M1051.13,-688.992C1051.33,-679.087 1051.56,-668.042 1051.77,-657.824\"/>\r\n",
       "<polygon fill=\"black\" stroke=\"black\" points=\"1055.27,-657.626 1051.98,-647.556 1048.28,-657.483 1055.27,-657.626\"/>\r\n",
       "</g>\r\n",
       "<!-- 41 -->\r\n",
       "<g id=\"node45\" class=\"node\"><title>41</title>\r\n",
       "<path fill=\"#e5823a\" stroke=\"black\" d=\"M847.5,-553C847.5,-553 755.5,-553 755.5,-553 749.5,-553 743.5,-547 743.5,-541 743.5,-541 743.5,-501 743.5,-501 743.5,-495 749.5,-489 755.5,-489 755.5,-489 847.5,-489 847.5,-489 853.5,-489 859.5,-495 859.5,-501 859.5,-501 859.5,-541 859.5,-541 859.5,-547 853.5,-553 847.5,-553\"/>\r\n",
       "<text text-anchor=\"start\" x=\"771.5\" y=\"-538.8\" font-family=\"Helvetica,sans-Serif\" font-size=\"14.00\">X</text>\r\n",
       "<text text-anchor=\"start\" x=\"781.5\" y=\"-538.8\" font-family=\"Helvetica,sans-Serif\" baseline-shift=\"sub\" font-size=\"14.00\">24</text>\r\n",
       "<text text-anchor=\"start\" x=\"795.5\" y=\"-538.8\" font-family=\"Helvetica,sans-Serif\" font-size=\"14.00\"> ≤ 0.5</text>\r\n",
       "<text text-anchor=\"start\" x=\"751.5\" y=\"-524.8\" font-family=\"Helvetica,sans-Serif\" font-size=\"14.00\">entropy = 0.051</text>\r\n",
       "<text text-anchor=\"start\" x=\"754\" y=\"-510.8\" font-family=\"Helvetica,sans-Serif\" font-size=\"14.00\">samples = 351</text>\r\n",
       "<text text-anchor=\"start\" x=\"753\" y=\"-496.8\" font-family=\"Helvetica,sans-Serif\" font-size=\"14.00\">value = [349, 2]</text>\r\n",
       "</g>\r\n",
       "<!-- 35&#45;&gt;41 -->\r\n",
       "<g id=\"edge44\" class=\"edge\"><title>35&#45;&gt;41</title>\r\n",
       "<path fill=\"none\" stroke=\"black\" d=\"M886.949,-588.992C874.98,-579.608 861.706,-569.202 849.26,-559.444\"/>\r\n",
       "<polygon fill=\"black\" stroke=\"black\" points=\"851.252,-556.558 841.223,-553.142 846.933,-562.067 851.252,-556.558\"/>\r\n",
       "</g>\r\n",
       "<!-- 42 -->\r\n",
       "<g id=\"node50\" class=\"node\"><title>42</title>\r\n",
       "<path fill=\"#399de5\" stroke=\"black\" d=\"M965.5,-547.5C965.5,-547.5 889.5,-547.5 889.5,-547.5 883.5,-547.5 877.5,-541.5 877.5,-535.5 877.5,-535.5 877.5,-506.5 877.5,-506.5 877.5,-500.5 883.5,-494.5 889.5,-494.5 889.5,-494.5 965.5,-494.5 965.5,-494.5 971.5,-494.5 977.5,-500.5 977.5,-506.5 977.5,-506.5 977.5,-535.5 977.5,-535.5 977.5,-541.5 971.5,-547.5 965.5,-547.5\"/>\r\n",
       "<text text-anchor=\"start\" x=\"885.5\" y=\"-532.3\" font-family=\"Helvetica,sans-Serif\" font-size=\"14.00\">entropy = 0.0</text>\r\n",
       "<text text-anchor=\"start\" x=\"888\" y=\"-517.3\" font-family=\"Helvetica,sans-Serif\" font-size=\"14.00\">samples = 1</text>\r\n",
       "<text text-anchor=\"start\" x=\"887\" y=\"-502.3\" font-family=\"Helvetica,sans-Serif\" font-size=\"14.00\">value = [0, 1]</text>\r\n",
       "</g>\r\n",
       "<!-- 35&#45;&gt;42 -->\r\n",
       "<g id=\"edge49\" class=\"edge\"><title>35&#45;&gt;42</title>\r\n",
       "<path fill=\"none\" stroke=\"black\" d=\"M926.816,-588.992C926.917,-579.087 927.03,-568.042 927.134,-557.824\"/>\r\n",
       "<polygon fill=\"black\" stroke=\"black\" points=\"930.637,-557.592 927.239,-547.556 923.637,-557.52 930.637,-557.592\"/>\r\n",
       "</g>\r\n",
       "<!-- 43 -->\r\n",
       "<g id=\"node46\" class=\"node\"><title>43</title>\r\n",
       "<path fill=\"#e5813a\" stroke=\"black\" d=\"M728.5,-453C728.5,-453 636.5,-453 636.5,-453 630.5,-453 624.5,-447 624.5,-441 624.5,-441 624.5,-401 624.5,-401 624.5,-395 630.5,-389 636.5,-389 636.5,-389 728.5,-389 728.5,-389 734.5,-389 740.5,-395 740.5,-401 740.5,-401 740.5,-441 740.5,-441 740.5,-447 734.5,-453 728.5,-453\"/>\r\n",
       "<text text-anchor=\"start\" x=\"652.5\" y=\"-438.8\" font-family=\"Helvetica,sans-Serif\" font-size=\"14.00\">X</text>\r\n",
       "<text text-anchor=\"start\" x=\"662.5\" y=\"-438.8\" font-family=\"Helvetica,sans-Serif\" baseline-shift=\"sub\" font-size=\"14.00\">34</text>\r\n",
       "<text text-anchor=\"start\" x=\"676.5\" y=\"-438.8\" font-family=\"Helvetica,sans-Serif\" font-size=\"14.00\"> ≤ 0.5</text>\r\n",
       "<text text-anchor=\"start\" x=\"632.5\" y=\"-424.8\" font-family=\"Helvetica,sans-Serif\" font-size=\"14.00\">entropy = 0.028</text>\r\n",
       "<text text-anchor=\"start\" x=\"635\" y=\"-410.8\" font-family=\"Helvetica,sans-Serif\" font-size=\"14.00\">samples = 350</text>\r\n",
       "<text text-anchor=\"start\" x=\"634\" y=\"-396.8\" font-family=\"Helvetica,sans-Serif\" font-size=\"14.00\">value = [349, 1]</text>\r\n",
       "</g>\r\n",
       "<!-- 41&#45;&gt;43 -->\r\n",
       "<g id=\"edge45\" class=\"edge\"><title>41&#45;&gt;43</title>\r\n",
       "<path fill=\"none\" stroke=\"black\" d=\"M763.848,-488.992C752.561,-479.698 740.057,-469.4 728.306,-459.723\"/>\r\n",
       "<polygon fill=\"black\" stroke=\"black\" points=\"730.26,-456.798 720.316,-453.142 725.81,-462.201 730.26,-456.798\"/>\r\n",
       "</g>\r\n",
       "<!-- 44 -->\r\n",
       "<g id=\"node49\" class=\"node\"><title>44</title>\r\n",
       "<path fill=\"#399de5\" stroke=\"black\" d=\"M846.5,-447.5C846.5,-447.5 770.5,-447.5 770.5,-447.5 764.5,-447.5 758.5,-441.5 758.5,-435.5 758.5,-435.5 758.5,-406.5 758.5,-406.5 758.5,-400.5 764.5,-394.5 770.5,-394.5 770.5,-394.5 846.5,-394.5 846.5,-394.5 852.5,-394.5 858.5,-400.5 858.5,-406.5 858.5,-406.5 858.5,-435.5 858.5,-435.5 858.5,-441.5 852.5,-447.5 846.5,-447.5\"/>\r\n",
       "<text text-anchor=\"start\" x=\"766.5\" y=\"-432.3\" font-family=\"Helvetica,sans-Serif\" font-size=\"14.00\">entropy = 0.0</text>\r\n",
       "<text text-anchor=\"start\" x=\"769\" y=\"-417.3\" font-family=\"Helvetica,sans-Serif\" font-size=\"14.00\">samples = 1</text>\r\n",
       "<text text-anchor=\"start\" x=\"768\" y=\"-402.3\" font-family=\"Helvetica,sans-Serif\" font-size=\"14.00\">value = [0, 1]</text>\r\n",
       "</g>\r\n",
       "<!-- 41&#45;&gt;44 -->\r\n",
       "<g id=\"edge48\" class=\"edge\"><title>41&#45;&gt;44</title>\r\n",
       "<path fill=\"none\" stroke=\"black\" d=\"M803.715,-488.992C804.422,-479.087 805.211,-468.042 805.941,-457.824\"/>\r\n",
       "<polygon fill=\"black\" stroke=\"black\" points=\"809.453,-457.78 806.675,-447.556 802.471,-457.282 809.453,-457.78\"/>\r\n",
       "</g>\r\n",
       "<!-- 45 -->\r\n",
       "<g id=\"node47\" class=\"node\"><title>45</title>\r\n",
       "<path fill=\"#e58139\" stroke=\"black\" d=\"M693,-347.5C693,-347.5 604,-347.5 604,-347.5 598,-347.5 592,-341.5 592,-335.5 592,-335.5 592,-306.5 592,-306.5 592,-300.5 598,-294.5 604,-294.5 604,-294.5 693,-294.5 693,-294.5 699,-294.5 705,-300.5 705,-306.5 705,-306.5 705,-335.5 705,-335.5 705,-341.5 699,-347.5 693,-347.5\"/>\r\n",
       "<text text-anchor=\"start\" x=\"606.5\" y=\"-332.3\" font-family=\"Helvetica,sans-Serif\" font-size=\"14.00\">entropy = 0.0</text>\r\n",
       "<text text-anchor=\"start\" x=\"601\" y=\"-317.3\" font-family=\"Helvetica,sans-Serif\" font-size=\"14.00\">samples = 349</text>\r\n",
       "<text text-anchor=\"start\" x=\"600\" y=\"-302.3\" font-family=\"Helvetica,sans-Serif\" font-size=\"14.00\">value = [349, 0]</text>\r\n",
       "</g>\r\n",
       "<!-- 43&#45;&gt;45 -->\r\n",
       "<g id=\"edge46\" class=\"edge\"><title>43&#45;&gt;45</title>\r\n",
       "<path fill=\"none\" stroke=\"black\" d=\"M671.742,-388.992C668.233,-378.878 664.312,-367.577 660.705,-357.18\"/>\r\n",
       "<polygon fill=\"black\" stroke=\"black\" points=\"663.951,-355.857 657.367,-347.556 657.338,-358.151 663.951,-355.857\"/>\r\n",
       "</g>\r\n",
       "<!-- 46 -->\r\n",
       "<g id=\"node48\" class=\"node\"><title>46</title>\r\n",
       "<path fill=\"#399de5\" stroke=\"black\" d=\"M811.5,-347.5C811.5,-347.5 735.5,-347.5 735.5,-347.5 729.5,-347.5 723.5,-341.5 723.5,-335.5 723.5,-335.5 723.5,-306.5 723.5,-306.5 723.5,-300.5 729.5,-294.5 735.5,-294.5 735.5,-294.5 811.5,-294.5 811.5,-294.5 817.5,-294.5 823.5,-300.5 823.5,-306.5 823.5,-306.5 823.5,-335.5 823.5,-335.5 823.5,-341.5 817.5,-347.5 811.5,-347.5\"/>\r\n",
       "<text text-anchor=\"start\" x=\"731.5\" y=\"-332.3\" font-family=\"Helvetica,sans-Serif\" font-size=\"14.00\">entropy = 0.0</text>\r\n",
       "<text text-anchor=\"start\" x=\"734\" y=\"-317.3\" font-family=\"Helvetica,sans-Serif\" font-size=\"14.00\">samples = 1</text>\r\n",
       "<text text-anchor=\"start\" x=\"733\" y=\"-302.3\" font-family=\"Helvetica,sans-Serif\" font-size=\"14.00\">value = [0, 1]</text>\r\n",
       "</g>\r\n",
       "<!-- 43&#45;&gt;46 -->\r\n",
       "<g id=\"edge47\" class=\"edge\"><title>43&#45;&gt;46</title>\r\n",
       "<path fill=\"none\" stroke=\"black\" d=\"M711.293,-388.992C721.362,-378.148 732.699,-365.94 742.91,-354.944\"/>\r\n",
       "<polygon fill=\"black\" stroke=\"black\" points=\"745.529,-357.266 749.769,-347.556 740.4,-352.503 745.529,-357.266\"/>\r\n",
       "</g>\r\n",
       "</g>\r\n",
       "</svg>\r\n"
      ],
      "text/plain": [
       "<graphviz.files.Source at 0x122267a9208>"
      ]
     },
     "execution_count": 48,
     "metadata": {},
     "output_type": "execute_result"
    }
   ],
   "source": [
    "import graphviz\n",
    "from sklearn import tree\n",
    "dot_data = tree.export_graphviz(clf_dt, out_file=None, \n",
    "                        filled=True, rounded=True, special_characters=True)  \n",
    "graph = graphviz.Source(dot_data)  \n",
    "graph "
   ]
  },
  {
   "cell_type": "markdown",
   "metadata": {},
   "source": [
    "### Feature Importance"
   ]
  },
  {
   "cell_type": "code",
   "execution_count": 49,
   "metadata": {},
   "outputs": [
    {
     "data": {
      "image/png": "[encoded data removed]",
      "text/plain": [
       "<Figure size 1008x936 with 1 Axes>"
      ]
     },
     "metadata": {
      "needs_background": "light"
     },
     "output_type": "display_data"
    }
   ],
   "source": [
    "importances = clf_dt.feature_importances_\n",
    "std = np.std(importances)\n",
    "indices = np.argsort(importances)[::-1]\n",
    "\n",
    "\n",
    "# Plot the feature importances of the forest\n",
    "\n",
    "plt.figure(1, figsize=(14, 13))\n",
    "plt.title(\"Feature importances\")\n",
    "plt.bar(range(x_train.shape[1]), importances[indices],\n",
    "       color=\"g\", yerr=std, align=\"center\")\n",
    "plt.xticks(range(x_train.shape[1]), x_train.columns[indices],rotation=90)\n",
    "plt.xlim([-1, x_train.shape[1]])\n",
    "plt.show()"
   ]
  },
  {
   "cell_type": "markdown",
   "metadata": {},
   "source": [
    "### Recursive feature elimination with cross validation\n",
    "<http://scikit-learn.org/stable/modules/generated/sklearn.feature_selection.RFECV.html>\n",
    "Now we will not only **find best features** but we also find **how many features we need** for best accuracy."
   ]
  },
  {
   "cell_type": "code",
   "execution_count": 50,
   "metadata": {},
   "outputs": [
    {
     "name": "stdout",
     "output_type": "stream",
     "text": [
      "Optimal number of features : 13\n",
      "Best features : Index(['Installs', 'Category_ART_AND_DESIGN', 'Category_AUTO_AND_VEHICLES',\n",
      "       'Category_BEAUTY', 'Category_BOOKS_AND_REFERENCE', 'Category_BUSINESS',\n",
      "       'Category_COMICS', 'Category_DATING', 'Category_EDUCATION',\n",
      "       'Category_FAMILY', 'Category_GAME', 'Category_PHOTOGRAPHY',\n",
      "       'Last Updated_2017.0'],\n",
      "      dtype='object')\n"
     ]
    }
   ],
   "source": [
    "from sklearn.feature_selection import RFECV\n",
    "\n",
    "# The \"accuracy\" scoring is proportional to the number of correct classifications \n",
    "rfecv = RFECV(estimator=clf_dt, step=1, cv=5,scoring='accuracy')   #5-fold cross-validation\n",
    "rfecv = rfecv.fit(x_train, y_train)\n",
    "\n",
    "print('Optimal number of features :', rfecv.n_features_)\n",
    "print('Best features :', x_train.columns[rfecv.support_])"
   ]
  },
  {
   "cell_type": "markdown",
   "metadata": {},
   "source": [
    "### Model Selection\n",
    "\n",
    "The Decision Tree model we built performs extremely well with 98.75% accuracy after determining which features were important and which were not and is the one we decided to go with as our final model."
   ]
  }
 ],
 "metadata": {
  "kernelspec": {
   "display_name": "Python 3",
   "language": "python",
   "name": "python3"
  },
  "language_info": {
   "codemirror_mode": {
    "name": "ipython",
    "version": 3
   },
   "file_extension": ".py",
   "mimetype": "text/x-python",
   "name": "python",
   "nbconvert_exporter": "python",
   "pygments_lexer": "ipython3",
   "version": "3.7.7"
  },
  "varInspector": {
   "cols": {
    "lenName": 16,
    "lenType": 16,
    "lenVar": 40
   },
   "kernels_config": {
    "python": {
     "delete_cmd_postfix": "",
     "delete_cmd_prefix": "del ",
     "library": "var_list.py",
     "varRefreshCmd": "print(var_dic_list())"
    },
    "r": {
     "delete_cmd_postfix": ") ",
     "delete_cmd_prefix": "rm(",
     "library": "var_list.r",
     "varRefreshCmd": "cat(var_dic_list()) "
    }
   },
   "position": {
    "height": "144.703px",
    "left": "1374.44px",
    "right": "20px",
    "top": "121px",
    "width": "350px"
   },
   "types_to_exclude": [
    "module",
    "function",
    "builtin_function_or_method",
    "instance",
    "_Feature"
   ],
   "window_display": true
  }
 },
 "nbformat": 4,
 "nbformat_minor": 4
}
